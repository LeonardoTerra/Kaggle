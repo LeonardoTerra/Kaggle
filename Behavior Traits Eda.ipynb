{
 "cells": [
  {
   "cell_type": "markdown",
   "id": "8e20559a",
   "metadata": {
    "papermill": {
     "duration": 0.004915,
     "end_time": "2025-07-03T15:34:45.561577",
     "exception": false,
     "start_time": "2025-07-03T15:34:45.556662",
     "status": "completed"
    },
    "tags": []
   },
   "source": [
    " **Dataset**\n",
    "--\n",
    "    Data Science EDA\n",
    "    \n",
    "### **Data Description**\n",
    "The dataset was collected through Google Forms as part of a college-level student research project focused on personality traits and behavioral tendencies among students. Participants responded to questions on a 0–10 scale for consistency and simplicity in analysis.\n",
    "\n",
    "### **Features**\n",
    "    Time_spent_Alone: Hours spent alone daily (0–11)\n",
    "    \n",
    "    Stage_fear: Presence of stage fright (Yes/No)\n",
    "    \n",
    "    Social_event_attendance: Frequency of social events (0–10)\n",
    "    \n",
    "    Going_outside: Frequency of going outside (0–7)\n",
    "    \n",
    "    Drained_after_socializing: Feeling drained after socializing (Yes/No)\n",
    "    \n",
    "    Friends_circle_size: Number of close friends (0–15)\n",
    "    \n",
    "    Post_frequency: Social media post frequency (0–10)\n",
    "    \n",
    "    Personality: Target variable (Extrovert/Introvert)"
   ]
  },
  {
   "cell_type": "markdown",
   "id": "ed0357ef",
   "metadata": {
    "papermill": {
     "duration": 0.003721,
     "end_time": "2025-07-03T15:34:45.569502",
     "exception": false,
     "start_time": "2025-07-03T15:34:45.565781",
     "status": "completed"
    },
    "tags": []
   },
   "source": [
    "## **Import Libraries**"
   ]
  },
  {
   "cell_type": "code",
   "execution_count": 1,
   "id": "2cfa6b83",
   "metadata": {
    "_cell_guid": "b1076dfc-b9ad-4769-8c92-a6c4dae69d19",
    "_uuid": "8f2839f25d086af736a60e9eeb907d3b93b6e0e5",
    "execution": {
     "iopub.execute_input": "2025-07-03T15:34:45.578649Z",
     "iopub.status.busy": "2025-07-03T15:34:45.578341Z",
     "iopub.status.idle": "2025-07-03T15:34:47.418817Z",
     "shell.execute_reply": "2025-07-03T15:34:47.417658Z"
    },
    "papermill": {
     "duration": 1.847251,
     "end_time": "2025-07-03T15:34:47.420718",
     "exception": false,
     "start_time": "2025-07-03T15:34:45.573467",
     "status": "completed"
    },
    "tags": []
   },
   "outputs": [
    {
     "name": "stdout",
     "output_type": "stream",
     "text": [
      "/kaggle/input/extrovert-vs-introvert-behavior-data/personality_datasert.csv\n",
      "/kaggle/input/extrovert-vs-introvert-behavior-data/personality_dataset.csv\n"
     ]
    }
   ],
   "source": [
    "# This Python 3 environment comes with many helpful analytics libraries installed\n",
    "# It is defined by the kaggle/python Docker image: https://github.com/kaggle/docker-python\n",
    "# For example, here's several helpful packages to load\n",
    "\n",
    "import numpy as np # linear algebra\n",
    "import pandas as pd # data processing, CSV file I/O (e.g. pd.read_csv)\n",
    "\n",
    "# Input data files are available in the read-only \"../input/\" directory\n",
    "# For example, running this (by clicking run or pressing Shift+Enter) will list all files under the input directory\n",
    "\n",
    "import os\n",
    "for dirname, _, filenames in os.walk('/kaggle/input'):\n",
    "    for filename in filenames:\n",
    "        print(os.path.join(dirname, filename))\n",
    "\n",
    "import warnings \n",
    "warnings.filterwarnings('ignore')\n",
    "\n",
    "# You can write up to 20GB to the current directory (/kaggle/working/) that gets preserved as output when you create a version using \"Save & Run All\" \n",
    "# You can also write temporary files to /kaggle/temp/, but they won't be saved outside of the current session"
   ]
  },
  {
   "cell_type": "code",
   "execution_count": 2,
   "id": "0a09c9eb",
   "metadata": {
    "execution": {
     "iopub.execute_input": "2025-07-03T15:34:47.432188Z",
     "iopub.status.busy": "2025-07-03T15:34:47.431775Z",
     "iopub.status.idle": "2025-07-03T15:34:49.232249Z",
     "shell.execute_reply": "2025-07-03T15:34:49.231227Z"
    },
    "papermill": {
     "duration": 1.808249,
     "end_time": "2025-07-03T15:34:49.234013",
     "exception": false,
     "start_time": "2025-07-03T15:34:47.425764",
     "status": "completed"
    },
    "tags": []
   },
   "outputs": [],
   "source": [
    "import seaborn as sns\n",
    "import matplotlib.pyplot as plt\n",
    "from matplotlib.ticker import FuncFormatter"
   ]
  },
  {
   "cell_type": "markdown",
   "id": "27f12ca0",
   "metadata": {
    "papermill": {
     "duration": 0.00386,
     "end_time": "2025-07-03T15:34:49.242124",
     "exception": false,
     "start_time": "2025-07-03T15:34:49.238264",
     "status": "completed"
    },
    "tags": []
   },
   "source": [
    "# **EDA**"
   ]
  },
  {
   "cell_type": "markdown",
   "id": "6f04ad9f",
   "metadata": {
    "papermill": {
     "duration": 0.003631,
     "end_time": "2025-07-03T15:34:49.249990",
     "exception": false,
     "start_time": "2025-07-03T15:34:49.246359",
     "status": "completed"
    },
    "tags": []
   },
   "source": [
    "## **Data Exploration**\n",
    "    During this step we can explore the shape of the data we are working with. It's usual to check and deal with the number of columns and rows, missing values, outliers and other inconsistencies that might appear.\n",
    "--"
   ]
  },
  {
   "cell_type": "code",
   "execution_count": 3,
   "id": "62deaecd",
   "metadata": {
    "execution": {
     "iopub.execute_input": "2025-07-03T15:34:49.259323Z",
     "iopub.status.busy": "2025-07-03T15:34:49.258803Z",
     "iopub.status.idle": "2025-07-03T15:34:49.313925Z",
     "shell.execute_reply": "2025-07-03T15:34:49.312994Z"
    },
    "papermill": {
     "duration": 0.061659,
     "end_time": "2025-07-03T15:34:49.315516",
     "exception": false,
     "start_time": "2025-07-03T15:34:49.253857",
     "status": "completed"
    },
    "tags": []
   },
   "outputs": [
    {
     "data": {
      "text/html": [
       "<div>\n",
       "<style scoped>\n",
       "    .dataframe tbody tr th:only-of-type {\n",
       "        vertical-align: middle;\n",
       "    }\n",
       "\n",
       "    .dataframe tbody tr th {\n",
       "        vertical-align: top;\n",
       "    }\n",
       "\n",
       "    .dataframe thead th {\n",
       "        text-align: right;\n",
       "    }\n",
       "</style>\n",
       "<table border=\"1\" class=\"dataframe\">\n",
       "  <thead>\n",
       "    <tr style=\"text-align: right;\">\n",
       "      <th></th>\n",
       "      <th>Time_spent_Alone</th>\n",
       "      <th>Stage_fear</th>\n",
       "      <th>Social_event_attendance</th>\n",
       "      <th>Going_outside</th>\n",
       "      <th>Drained_after_socializing</th>\n",
       "      <th>Friends_circle_size</th>\n",
       "      <th>Post_frequency</th>\n",
       "      <th>Personality</th>\n",
       "    </tr>\n",
       "  </thead>\n",
       "  <tbody>\n",
       "    <tr>\n",
       "      <th>0</th>\n",
       "      <td>4.0</td>\n",
       "      <td>No</td>\n",
       "      <td>4.0</td>\n",
       "      <td>6.0</td>\n",
       "      <td>No</td>\n",
       "      <td>13.0</td>\n",
       "      <td>5.0</td>\n",
       "      <td>Extrovert</td>\n",
       "    </tr>\n",
       "    <tr>\n",
       "      <th>1</th>\n",
       "      <td>9.0</td>\n",
       "      <td>Yes</td>\n",
       "      <td>0.0</td>\n",
       "      <td>0.0</td>\n",
       "      <td>Yes</td>\n",
       "      <td>0.0</td>\n",
       "      <td>3.0</td>\n",
       "      <td>Introvert</td>\n",
       "    </tr>\n",
       "    <tr>\n",
       "      <th>2</th>\n",
       "      <td>9.0</td>\n",
       "      <td>Yes</td>\n",
       "      <td>1.0</td>\n",
       "      <td>2.0</td>\n",
       "      <td>Yes</td>\n",
       "      <td>5.0</td>\n",
       "      <td>2.0</td>\n",
       "      <td>Introvert</td>\n",
       "    </tr>\n",
       "    <tr>\n",
       "      <th>3</th>\n",
       "      <td>0.0</td>\n",
       "      <td>No</td>\n",
       "      <td>6.0</td>\n",
       "      <td>7.0</td>\n",
       "      <td>No</td>\n",
       "      <td>14.0</td>\n",
       "      <td>8.0</td>\n",
       "      <td>Extrovert</td>\n",
       "    </tr>\n",
       "    <tr>\n",
       "      <th>4</th>\n",
       "      <td>3.0</td>\n",
       "      <td>No</td>\n",
       "      <td>9.0</td>\n",
       "      <td>4.0</td>\n",
       "      <td>No</td>\n",
       "      <td>8.0</td>\n",
       "      <td>5.0</td>\n",
       "      <td>Extrovert</td>\n",
       "    </tr>\n",
       "    <tr>\n",
       "      <th>...</th>\n",
       "      <td>...</td>\n",
       "      <td>...</td>\n",
       "      <td>...</td>\n",
       "      <td>...</td>\n",
       "      <td>...</td>\n",
       "      <td>...</td>\n",
       "      <td>...</td>\n",
       "      <td>...</td>\n",
       "    </tr>\n",
       "    <tr>\n",
       "      <th>2895</th>\n",
       "      <td>3.0</td>\n",
       "      <td>No</td>\n",
       "      <td>7.0</td>\n",
       "      <td>6.0</td>\n",
       "      <td>No</td>\n",
       "      <td>6.0</td>\n",
       "      <td>6.0</td>\n",
       "      <td>Extrovert</td>\n",
       "    </tr>\n",
       "    <tr>\n",
       "      <th>2896</th>\n",
       "      <td>3.0</td>\n",
       "      <td>No</td>\n",
       "      <td>8.0</td>\n",
       "      <td>3.0</td>\n",
       "      <td>No</td>\n",
       "      <td>14.0</td>\n",
       "      <td>9.0</td>\n",
       "      <td>Extrovert</td>\n",
       "    </tr>\n",
       "    <tr>\n",
       "      <th>2897</th>\n",
       "      <td>4.0</td>\n",
       "      <td>Yes</td>\n",
       "      <td>1.0</td>\n",
       "      <td>1.0</td>\n",
       "      <td>Yes</td>\n",
       "      <td>4.0</td>\n",
       "      <td>0.0</td>\n",
       "      <td>Introvert</td>\n",
       "    </tr>\n",
       "    <tr>\n",
       "      <th>2898</th>\n",
       "      <td>11.0</td>\n",
       "      <td>Yes</td>\n",
       "      <td>1.0</td>\n",
       "      <td>NaN</td>\n",
       "      <td>Yes</td>\n",
       "      <td>2.0</td>\n",
       "      <td>0.0</td>\n",
       "      <td>Introvert</td>\n",
       "    </tr>\n",
       "    <tr>\n",
       "      <th>2899</th>\n",
       "      <td>3.0</td>\n",
       "      <td>No</td>\n",
       "      <td>6.0</td>\n",
       "      <td>6.0</td>\n",
       "      <td>No</td>\n",
       "      <td>6.0</td>\n",
       "      <td>9.0</td>\n",
       "      <td>Extrovert</td>\n",
       "    </tr>\n",
       "  </tbody>\n",
       "</table>\n",
       "<p>2900 rows × 8 columns</p>\n",
       "</div>"
      ],
      "text/plain": [
       "      Time_spent_Alone Stage_fear  Social_event_attendance  Going_outside  \\\n",
       "0                  4.0         No                      4.0            6.0   \n",
       "1                  9.0        Yes                      0.0            0.0   \n",
       "2                  9.0        Yes                      1.0            2.0   \n",
       "3                  0.0         No                      6.0            7.0   \n",
       "4                  3.0         No                      9.0            4.0   \n",
       "...                ...        ...                      ...            ...   \n",
       "2895               3.0         No                      7.0            6.0   \n",
       "2896               3.0         No                      8.0            3.0   \n",
       "2897               4.0        Yes                      1.0            1.0   \n",
       "2898              11.0        Yes                      1.0            NaN   \n",
       "2899               3.0         No                      6.0            6.0   \n",
       "\n",
       "     Drained_after_socializing  Friends_circle_size  Post_frequency  \\\n",
       "0                           No                 13.0             5.0   \n",
       "1                          Yes                  0.0             3.0   \n",
       "2                          Yes                  5.0             2.0   \n",
       "3                           No                 14.0             8.0   \n",
       "4                           No                  8.0             5.0   \n",
       "...                        ...                  ...             ...   \n",
       "2895                        No                  6.0             6.0   \n",
       "2896                        No                 14.0             9.0   \n",
       "2897                       Yes                  4.0             0.0   \n",
       "2898                       Yes                  2.0             0.0   \n",
       "2899                        No                  6.0             9.0   \n",
       "\n",
       "     Personality  \n",
       "0      Extrovert  \n",
       "1      Introvert  \n",
       "2      Introvert  \n",
       "3      Extrovert  \n",
       "4      Extrovert  \n",
       "...          ...  \n",
       "2895   Extrovert  \n",
       "2896   Extrovert  \n",
       "2897   Introvert  \n",
       "2898   Introvert  \n",
       "2899   Extrovert  \n",
       "\n",
       "[2900 rows x 8 columns]"
      ]
     },
     "execution_count": 3,
     "metadata": {},
     "output_type": "execute_result"
    }
   ],
   "source": [
    "df = pd.read_csv('/kaggle/input/extrovert-vs-introvert-behavior-data/personality_dataset.csv')\n",
    "df"
   ]
  },
  {
   "cell_type": "code",
   "execution_count": 4,
   "id": "43b6b3df",
   "metadata": {
    "execution": {
     "iopub.execute_input": "2025-07-03T15:34:49.327189Z",
     "iopub.status.busy": "2025-07-03T15:34:49.326826Z",
     "iopub.status.idle": "2025-07-03T15:34:49.333987Z",
     "shell.execute_reply": "2025-07-03T15:34:49.333236Z"
    },
    "papermill": {
     "duration": 0.014566,
     "end_time": "2025-07-03T15:34:49.335321",
     "exception": false,
     "start_time": "2025-07-03T15:34:49.320755",
     "status": "completed"
    },
    "tags": []
   },
   "outputs": [
    {
     "data": {
      "text/plain": [
       "Time_spent_Alone             float64\n",
       "Stage_fear                    object\n",
       "Social_event_attendance      float64\n",
       "Going_outside                float64\n",
       "Drained_after_socializing     object\n",
       "Friends_circle_size          float64\n",
       "Post_frequency               float64\n",
       "Personality                   object\n",
       "dtype: object"
      ]
     },
     "execution_count": 4,
     "metadata": {},
     "output_type": "execute_result"
    }
   ],
   "source": [
    "df.dtypes"
   ]
  },
  {
   "cell_type": "code",
   "execution_count": 5,
   "id": "c27d4b14",
   "metadata": {
    "execution": {
     "iopub.execute_input": "2025-07-03T15:34:49.346142Z",
     "iopub.status.busy": "2025-07-03T15:34:49.345786Z",
     "iopub.status.idle": "2025-07-03T15:34:49.354760Z",
     "shell.execute_reply": "2025-07-03T15:34:49.353993Z"
    },
    "papermill": {
     "duration": 0.015826,
     "end_time": "2025-07-03T15:34:49.356047",
     "exception": false,
     "start_time": "2025-07-03T15:34:49.340221",
     "status": "completed"
    },
    "tags": []
   },
   "outputs": [
    {
     "data": {
      "text/plain": [
       "Time_spent_Alone             0.021724\n",
       "Stage_fear                   0.025172\n",
       "Social_event_attendance      0.021379\n",
       "Going_outside                0.022759\n",
       "Drained_after_socializing    0.017931\n",
       "Friends_circle_size          0.026552\n",
       "Post_frequency               0.022414\n",
       "Personality                  0.000000\n",
       "dtype: float64"
      ]
     },
     "execution_count": 5,
     "metadata": {},
     "output_type": "execute_result"
    }
   ],
   "source": [
    "df.isna().mean() # Evaluating the % of missing values in every column"
   ]
  },
  {
   "cell_type": "code",
   "execution_count": 6,
   "id": "b68e2943",
   "metadata": {
    "execution": {
     "iopub.execute_input": "2025-07-03T15:34:49.366535Z",
     "iopub.status.busy": "2025-07-03T15:34:49.365905Z",
     "iopub.status.idle": "2025-07-03T15:34:49.372445Z",
     "shell.execute_reply": "2025-07-03T15:34:49.371470Z"
    },
    "papermill": {
     "duration": 0.01304,
     "end_time": "2025-07-03T15:34:49.373752",
     "exception": false,
     "start_time": "2025-07-03T15:34:49.360712",
     "status": "completed"
    },
    "tags": []
   },
   "outputs": [
    {
     "data": {
      "text/plain": [
       "['Time_spent_Alone',\n",
       " 'Social_event_attendance',\n",
       " 'Going_outside',\n",
       " 'Friends_circle_size',\n",
       " 'Post_frequency']"
      ]
     },
     "execution_count": 6,
     "metadata": {},
     "output_type": "execute_result"
    }
   ],
   "source": [
    "# Getting numeric columns to assess outliers\n",
    "numeric_df_columns = df.select_dtypes(include=['int64', 'float64']).columns.tolist()\n",
    "numeric_df_columns"
   ]
  },
  {
   "cell_type": "markdown",
   "id": "c13e61ee",
   "metadata": {
    "papermill": {
     "duration": 0.004348,
     "end_time": "2025-07-03T15:34:49.382801",
     "exception": false,
     "start_time": "2025-07-03T15:34:49.378453",
     "status": "completed"
    },
    "tags": []
   },
   "source": [
    "##### **BoxPlots to assess outliers and missing values**"
   ]
  },
  {
   "cell_type": "code",
   "execution_count": 7,
   "id": "87fc04c0",
   "metadata": {
    "execution": {
     "iopub.execute_input": "2025-07-03T15:34:49.393048Z",
     "iopub.status.busy": "2025-07-03T15:34:49.392752Z",
     "iopub.status.idle": "2025-07-03T15:34:50.215446Z",
     "shell.execute_reply": "2025-07-03T15:34:50.214515Z"
    },
    "papermill": {
     "duration": 0.829607,
     "end_time": "2025-07-03T15:34:50.216846",
     "exception": false,
     "start_time": "2025-07-03T15:34:49.387239",
     "status": "completed"
    },
    "tags": []
   },
   "outputs": [
    {
     "data": {
      "image/png": "[encoded data removed]",
      "text/plain": [
       "<Figure size 1600x400 with 6 Axes>"
      ]
     },
     "metadata": {},
     "output_type": "display_data"
    }
   ],
   "source": [
    "fig, ax = plt.subplots(nrows=2, ncols=3, figsize=(16, 4))\n",
    "\n",
    "ax[0,0] = sns.boxplot(data=df, x= 'Time_spent_Alone', ax=ax[0,0])\n",
    "ax[0,1] = sns.boxplot(data=df, x= 'Social_event_attendance', ax=ax[0,1])\n",
    "ax[0,2] = sns.boxplot(data=df, x= 'Going_outside', ax=ax[0,2])\n",
    "ax[1,0] = sns.boxplot(data=df, x= 'Friends_circle_size', ax=ax[1,0])\n",
    "ax[1,1] = sns.boxplot(data=df, x= 'Post_frequency', ax=ax[1,1])\n",
    "\n",
    "sns.despine(left=False, right=True, top=True, bottom=False)\n",
    "plt.tight_layout()"
   ]
  },
  {
   "cell_type": "code",
   "execution_count": 8,
   "id": "d3e299a7",
   "metadata": {
    "execution": {
     "iopub.execute_input": "2025-07-03T15:34:50.228629Z",
     "iopub.status.busy": "2025-07-03T15:34:50.228274Z",
     "iopub.status.idle": "2025-07-03T15:34:50.243518Z",
     "shell.execute_reply": "2025-07-03T15:34:50.242659Z"
    },
    "papermill": {
     "duration": 0.022696,
     "end_time": "2025-07-03T15:34:50.244913",
     "exception": false,
     "start_time": "2025-07-03T15:34:50.222217",
     "status": "completed"
    },
    "tags": []
   },
   "outputs": [
    {
     "data": {
      "text/html": [
       "<div>\n",
       "<style scoped>\n",
       "    .dataframe tbody tr th:only-of-type {\n",
       "        vertical-align: middle;\n",
       "    }\n",
       "\n",
       "    .dataframe tbody tr th {\n",
       "        vertical-align: top;\n",
       "    }\n",
       "\n",
       "    .dataframe thead th {\n",
       "        text-align: right;\n",
       "    }\n",
       "</style>\n",
       "<table border=\"1\" class=\"dataframe\">\n",
       "  <thead>\n",
       "    <tr style=\"text-align: right;\">\n",
       "      <th></th>\n",
       "      <th>Stage_fear</th>\n",
       "      <th>Drained_after_socializing</th>\n",
       "    </tr>\n",
       "  </thead>\n",
       "  <tbody>\n",
       "    <tr>\n",
       "      <th>0</th>\n",
       "      <td>No</td>\n",
       "      <td>No</td>\n",
       "    </tr>\n",
       "  </tbody>\n",
       "</table>\n",
       "</div>"
      ],
      "text/plain": [
       "  Stage_fear Drained_after_socializing\n",
       "0         No                        No"
      ]
     },
     "execution_count": 8,
     "metadata": {},
     "output_type": "execute_result"
    }
   ],
   "source": [
    "#Getting Object columns to assess missing values\n",
    "\n",
    "object_df_columns = df.select_dtypes(include='object').columns.tolist()\n",
    "object_df_columns.remove('Personality')\n",
    "df[object_df_columns].mode()"
   ]
  },
  {
   "cell_type": "code",
   "execution_count": 9,
   "id": "16abfa8e",
   "metadata": {
    "execution": {
     "iopub.execute_input": "2025-07-03T15:34:50.257550Z",
     "iopub.status.busy": "2025-07-03T15:34:50.257222Z",
     "iopub.status.idle": "2025-07-03T15:34:50.276589Z",
     "shell.execute_reply": "2025-07-03T15:34:50.275810Z"
    },
    "papermill": {
     "duration": 0.027765,
     "end_time": "2025-07-03T15:34:50.278090",
     "exception": false,
     "start_time": "2025-07-03T15:34:50.250325",
     "status": "completed"
    },
    "tags": []
   },
   "outputs": [
    {
     "data": {
      "text/plain": [
       "Time_spent_Alone             0.0\n",
       "Stage_fear                   0.0\n",
       "Social_event_attendance      0.0\n",
       "Going_outside                0.0\n",
       "Drained_after_socializing    0.0\n",
       "Friends_circle_size          0.0\n",
       "Post_frequency               0.0\n",
       "Personality                  0.0\n",
       "dtype: float64"
      ]
     },
     "execution_count": 9,
     "metadata": {},
     "output_type": "execute_result"
    }
   ],
   "source": [
    "# Since we have no outliers and <5% are missing, we will input the mode in the Object columns and the mean in the numeric columns. \n",
    "\n",
    "df_v2 = df\n",
    "df_v2[object_df_columns] = df_v2[object_df_columns].apply(lambda col: col.fillna(col.mode()[0]))\n",
    "df_v2[numeric_df_columns] = df_v2[numeric_df_columns].apply(lambda col: col.fillna(col.mean()))\n",
    "df_v2.isna().mean() # checking the number of outliers after treatment"
   ]
  },
  {
   "cell_type": "markdown",
   "id": "4ed1f9b2",
   "metadata": {
    "papermill": {
     "duration": 0.00523,
     "end_time": "2025-07-03T15:34:50.288868",
     "exception": false,
     "start_time": "2025-07-03T15:34:50.283638",
     "status": "completed"
    },
    "tags": []
   },
   "source": [
    "##### **Encoding Categorical features**"
   ]
  },
  {
   "cell_type": "code",
   "execution_count": 10,
   "id": "85f4fcc9",
   "metadata": {
    "execution": {
     "iopub.execute_input": "2025-07-03T15:34:50.301245Z",
     "iopub.status.busy": "2025-07-03T15:34:50.300865Z",
     "iopub.status.idle": "2025-07-03T15:34:50.318515Z",
     "shell.execute_reply": "2025-07-03T15:34:50.317633Z"
    },
    "papermill": {
     "duration": 0.025726,
     "end_time": "2025-07-03T15:34:50.320035",
     "exception": false,
     "start_time": "2025-07-03T15:34:50.294309",
     "status": "completed"
    },
    "tags": []
   },
   "outputs": [
    {
     "data": {
      "text/html": [
       "<div>\n",
       "<style scoped>\n",
       "    .dataframe tbody tr th:only-of-type {\n",
       "        vertical-align: middle;\n",
       "    }\n",
       "\n",
       "    .dataframe tbody tr th {\n",
       "        vertical-align: top;\n",
       "    }\n",
       "\n",
       "    .dataframe thead th {\n",
       "        text-align: right;\n",
       "    }\n",
       "</style>\n",
       "<table border=\"1\" class=\"dataframe\">\n",
       "  <thead>\n",
       "    <tr style=\"text-align: right;\">\n",
       "      <th></th>\n",
       "      <th>Time_spent_Alone</th>\n",
       "      <th>Stage_fear</th>\n",
       "      <th>Social_event_attendance</th>\n",
       "      <th>Going_outside</th>\n",
       "      <th>Drained_after_socializing</th>\n",
       "      <th>Friends_circle_size</th>\n",
       "      <th>Post_frequency</th>\n",
       "      <th>Personality</th>\n",
       "    </tr>\n",
       "  </thead>\n",
       "  <tbody>\n",
       "    <tr>\n",
       "      <th>0</th>\n",
       "      <td>4.0</td>\n",
       "      <td>0</td>\n",
       "      <td>4.0</td>\n",
       "      <td>6.0</td>\n",
       "      <td>0</td>\n",
       "      <td>13.0</td>\n",
       "      <td>5.0</td>\n",
       "      <td>1</td>\n",
       "    </tr>\n",
       "    <tr>\n",
       "      <th>1</th>\n",
       "      <td>9.0</td>\n",
       "      <td>1</td>\n",
       "      <td>0.0</td>\n",
       "      <td>0.0</td>\n",
       "      <td>1</td>\n",
       "      <td>0.0</td>\n",
       "      <td>3.0</td>\n",
       "      <td>0</td>\n",
       "    </tr>\n",
       "    <tr>\n",
       "      <th>2</th>\n",
       "      <td>9.0</td>\n",
       "      <td>1</td>\n",
       "      <td>1.0</td>\n",
       "      <td>2.0</td>\n",
       "      <td>1</td>\n",
       "      <td>5.0</td>\n",
       "      <td>2.0</td>\n",
       "      <td>0</td>\n",
       "    </tr>\n",
       "    <tr>\n",
       "      <th>3</th>\n",
       "      <td>0.0</td>\n",
       "      <td>0</td>\n",
       "      <td>6.0</td>\n",
       "      <td>7.0</td>\n",
       "      <td>0</td>\n",
       "      <td>14.0</td>\n",
       "      <td>8.0</td>\n",
       "      <td>1</td>\n",
       "    </tr>\n",
       "    <tr>\n",
       "      <th>4</th>\n",
       "      <td>3.0</td>\n",
       "      <td>0</td>\n",
       "      <td>9.0</td>\n",
       "      <td>4.0</td>\n",
       "      <td>0</td>\n",
       "      <td>8.0</td>\n",
       "      <td>5.0</td>\n",
       "      <td>1</td>\n",
       "    </tr>\n",
       "  </tbody>\n",
       "</table>\n",
       "</div>"
      ],
      "text/plain": [
       "   Time_spent_Alone  Stage_fear  Social_event_attendance  Going_outside  \\\n",
       "0               4.0           0                      4.0            6.0   \n",
       "1               9.0           1                      0.0            0.0   \n",
       "2               9.0           1                      1.0            2.0   \n",
       "3               0.0           0                      6.0            7.0   \n",
       "4               3.0           0                      9.0            4.0   \n",
       "\n",
       "   Drained_after_socializing  Friends_circle_size  Post_frequency  Personality  \n",
       "0                          0                 13.0             5.0            1  \n",
       "1                          1                  0.0             3.0            0  \n",
       "2                          1                  5.0             2.0            0  \n",
       "3                          0                 14.0             8.0            1  \n",
       "4                          0                  8.0             5.0            1  "
      ]
     },
     "execution_count": 10,
     "metadata": {},
     "output_type": "execute_result"
    }
   ],
   "source": [
    "df_v2['Stage_fear'] = df_v2['Stage_fear'].map({'Yes':1, 'No':0})\n",
    "df_v2['Drained_after_socializing'] = df_v2['Drained_after_socializing'].map({'Yes':1, 'No':0})\n",
    "df_v2['Personality'] = df_v2['Personality'].map({'Extrovert':1, 'Introvert':0})\n",
    "df_v2.head()"
   ]
  },
  {
   "cell_type": "markdown",
   "id": "2cca6211",
   "metadata": {
    "papermill": {
     "duration": 0.0052,
     "end_time": "2025-07-03T15:34:50.330813",
     "exception": false,
     "start_time": "2025-07-03T15:34:50.325613",
     "status": "completed"
    },
    "tags": []
   },
   "source": [
    "## **Statistical Analysis**\n",
    "    This step seeks to understand the interaction and correlation among the features. Here it's possible to check multicolinearity, plot visulizations and highlight key points.\n",
    "--"
   ]
  },
  {
   "cell_type": "markdown",
   "id": "0d4f4a6c",
   "metadata": {
    "papermill": {
     "duration": 0.005209,
     "end_time": "2025-07-03T15:34:50.341506",
     "exception": false,
     "start_time": "2025-07-03T15:34:50.336297",
     "status": "completed"
    },
    "tags": []
   },
   "source": [
    "##### **Visualization plots to describe the data**"
   ]
  },
  {
   "cell_type": "code",
   "execution_count": 11,
   "id": "50b401d6",
   "metadata": {
    "execution": {
     "iopub.execute_input": "2025-07-03T15:34:50.353994Z",
     "iopub.status.busy": "2025-07-03T15:34:50.353667Z",
     "iopub.status.idle": "2025-07-03T15:34:51.154870Z",
     "shell.execute_reply": "2025-07-03T15:34:51.153821Z"
    },
    "papermill": {
     "duration": 0.809423,
     "end_time": "2025-07-03T15:34:51.156488",
     "exception": false,
     "start_time": "2025-07-03T15:34:50.347065",
     "status": "completed"
    },
    "tags": []
   },
   "outputs": [
    {
     "data": {
      "image/png": "[encoded data removed]",
      "text/plain": [
       "<Figure size 1200x700 with 6 Axes>"
      ]
     },
     "metadata": {},
     "output_type": "display_data"
    }
   ],
   "source": [
    "fig, ax = plt.subplots(nrows=2, ncols=3, figsize=(12, 7))\n",
    "\n",
    "ax[0,0] = sns.boxplot(data=df_v2, x='Personality', y='Time_spent_Alone', ax=ax[0,0], )\n",
    "ax[0,0].set_xticklabels(['Introvert', 'Extrovert'])\n",
    "\n",
    "ax[0,1] = sns.boxplot(data=df_v2, x='Personality', y= 'Social_event_attendance', ax=ax[0,1])\n",
    "ax[0,1].set_xticklabels(['Introvert', 'Extrovert'])\n",
    "\n",
    "ax[0,2] = sns.boxplot(data=df_v2, x='Personality', y= 'Going_outside', ax=ax[0,2])\n",
    "ax[0,2].set_xticklabels(['Introvert', 'Extrovert'])\n",
    "\n",
    "ax[1,0] = sns.countplot(data=df_v2, y= 'Drained_after_socializing', hue='Personality', ax=ax[1,0])\n",
    "legend = ax[1,0].legend(labels=['Extrovert','Introvert'], fontsize='9')\n",
    "legend.set_frame_on(False)\n",
    "\n",
    "ax[1,1] = sns.boxplot(data=df_v2, x='Personality', y= 'Friends_circle_size', ax=ax[1,1])\n",
    "ax[1,1].set_xticklabels(['Introvert', 'Extrovert'])\n",
    "\n",
    "ax[1,2] = sns.boxplot(data=df_v2, x='Personality', y= 'Post_frequency', ax=ax[1,2])\n",
    "ax[1,2].set_xticklabels(['Introvert', 'Extrovert'])\n",
    "\n",
    "sns.despine(left=False, right=True, top=True, bottom=False)\n",
    "plt.tight_layout()"
   ]
  },
  {
   "cell_type": "markdown",
   "id": "26e1afb6",
   "metadata": {
    "papermill": {
     "duration": 0.006853,
     "end_time": "2025-07-03T15:34:51.171147",
     "exception": false,
     "start_time": "2025-07-03T15:34:51.164294",
     "status": "completed"
    },
    "tags": []
   },
   "source": [
    "##### **Correlation of features**"
   ]
  },
  {
   "cell_type": "code",
   "execution_count": 12,
   "id": "7252dec6",
   "metadata": {
    "execution": {
     "iopub.execute_input": "2025-07-03T15:34:51.186952Z",
     "iopub.status.busy": "2025-07-03T15:34:51.186624Z",
     "iopub.status.idle": "2025-07-03T15:34:51.629013Z",
     "shell.execute_reply": "2025-07-03T15:34:51.628058Z"
    },
    "papermill": {
     "duration": 0.452759,
     "end_time": "2025-07-03T15:34:51.630899",
     "exception": false,
     "start_time": "2025-07-03T15:34:51.178140",
     "status": "completed"
    },
    "tags": []
   },
   "outputs": [
    {
     "data": {
      "image/png": "[encoded data removed]",
      "text/plain": [
       "<Figure size 1000x600 with 2 Axes>"
      ]
     },
     "metadata": {},
     "output_type": "display_data"
    }
   ],
   "source": [
    "corr = df_v2.corr()\n",
    "mask = np.triu(np.ones_like(corr, dtype=bool)) # Mask to remove the upper side and facilitate visualization\n",
    "\n",
    "plt.figure(figsize=(10,6))\n",
    "sns.heatmap(corr, mask=mask, annot=True, cmap='coolwarm', center=0)\n",
    "\n",
    "sns.despine(left=False, right=True, top=True, bottom=False)\n",
    "plt.title(\"Correlation Analysis\", fontsize=9)\n",
    "plt.tight_layout()"
   ]
  },
  {
   "cell_type": "markdown",
   "id": "0d63f95e",
   "metadata": {
    "papermill": {
     "duration": 0.008134,
     "end_time": "2025-07-03T15:34:51.647886",
     "exception": false,
     "start_time": "2025-07-03T15:34:51.639752",
     "status": "completed"
    },
    "tags": []
   },
   "source": [
    "##### **Descriptive statistics of the Personality groups**"
   ]
  },
  {
   "cell_type": "code",
   "execution_count": 13,
   "id": "1de70f08",
   "metadata": {
    "execution": {
     "iopub.execute_input": "2025-07-03T15:34:51.666177Z",
     "iopub.status.busy": "2025-07-03T15:34:51.665826Z",
     "iopub.status.idle": "2025-07-03T15:34:51.696024Z",
     "shell.execute_reply": "2025-07-03T15:34:51.695012Z"
    },
    "papermill": {
     "duration": 0.041383,
     "end_time": "2025-07-03T15:34:51.697731",
     "exception": false,
     "start_time": "2025-07-03T15:34:51.656348",
     "status": "completed"
    },
    "tags": []
   },
   "outputs": [
    {
     "data": {
      "text/html": [
       "<div>\n",
       "<style scoped>\n",
       "    .dataframe tbody tr th:only-of-type {\n",
       "        vertical-align: middle;\n",
       "    }\n",
       "\n",
       "    .dataframe tbody tr th {\n",
       "        vertical-align: top;\n",
       "    }\n",
       "\n",
       "    .dataframe thead th {\n",
       "        text-align: right;\n",
       "    }\n",
       "</style>\n",
       "<table border=\"1\" class=\"dataframe\">\n",
       "  <thead>\n",
       "    <tr style=\"text-align: right;\">\n",
       "      <th></th>\n",
       "      <th>index</th>\n",
       "      <th>Time_spent_Alone</th>\n",
       "      <th>Stage_fear</th>\n",
       "      <th>Social_event_attendance</th>\n",
       "      <th>Going_outside</th>\n",
       "      <th>Drained_after_socializing</th>\n",
       "      <th>Friends_circle_size</th>\n",
       "      <th>Post_frequency</th>\n",
       "    </tr>\n",
       "  </thead>\n",
       "  <tbody>\n",
       "    <tr>\n",
       "      <th>0</th>\n",
       "      <td>count</td>\n",
       "      <td>1409.00</td>\n",
       "      <td>1409.00</td>\n",
       "      <td>1409.00</td>\n",
       "      <td>1409.00</td>\n",
       "      <td>1409.00</td>\n",
       "      <td>1409.00</td>\n",
       "      <td>1409.00</td>\n",
       "    </tr>\n",
       "    <tr>\n",
       "      <th>1</th>\n",
       "      <td>mean</td>\n",
       "      <td>7.03</td>\n",
       "      <td>0.92</td>\n",
       "      <td>1.83</td>\n",
       "      <td>1.31</td>\n",
       "      <td>0.92</td>\n",
       "      <td>3.28</td>\n",
       "      <td>1.42</td>\n",
       "    </tr>\n",
       "    <tr>\n",
       "      <th>2</th>\n",
       "      <td>std</td>\n",
       "      <td>2.61</td>\n",
       "      <td>0.27</td>\n",
       "      <td>1.73</td>\n",
       "      <td>1.39</td>\n",
       "      <td>0.27</td>\n",
       "      <td>2.57</td>\n",
       "      <td>1.58</td>\n",
       "    </tr>\n",
       "    <tr>\n",
       "      <th>3</th>\n",
       "      <td>min</td>\n",
       "      <td>0.00</td>\n",
       "      <td>0.00</td>\n",
       "      <td>0.00</td>\n",
       "      <td>0.00</td>\n",
       "      <td>0.00</td>\n",
       "      <td>0.00</td>\n",
       "      <td>0.00</td>\n",
       "    </tr>\n",
       "    <tr>\n",
       "      <th>4</th>\n",
       "      <td>25%</td>\n",
       "      <td>5.00</td>\n",
       "      <td>1.00</td>\n",
       "      <td>1.00</td>\n",
       "      <td>0.00</td>\n",
       "      <td>1.00</td>\n",
       "      <td>2.00</td>\n",
       "      <td>0.00</td>\n",
       "    </tr>\n",
       "    <tr>\n",
       "      <th>5</th>\n",
       "      <td>50%</td>\n",
       "      <td>7.00</td>\n",
       "      <td>1.00</td>\n",
       "      <td>2.00</td>\n",
       "      <td>1.00</td>\n",
       "      <td>1.00</td>\n",
       "      <td>3.00</td>\n",
       "      <td>1.00</td>\n",
       "    </tr>\n",
       "    <tr>\n",
       "      <th>6</th>\n",
       "      <td>75%</td>\n",
       "      <td>9.00</td>\n",
       "      <td>1.00</td>\n",
       "      <td>3.00</td>\n",
       "      <td>2.00</td>\n",
       "      <td>1.00</td>\n",
       "      <td>4.00</td>\n",
       "      <td>2.00</td>\n",
       "    </tr>\n",
       "    <tr>\n",
       "      <th>7</th>\n",
       "      <td>max</td>\n",
       "      <td>11.00</td>\n",
       "      <td>1.00</td>\n",
       "      <td>9.00</td>\n",
       "      <td>7.00</td>\n",
       "      <td>1.00</td>\n",
       "      <td>14.00</td>\n",
       "      <td>9.00</td>\n",
       "    </tr>\n",
       "  </tbody>\n",
       "</table>\n",
       "</div>"
      ],
      "text/plain": [
       "   index  Time_spent_Alone  Stage_fear  Social_event_attendance  \\\n",
       "0  count           1409.00     1409.00                  1409.00   \n",
       "1   mean              7.03        0.92                     1.83   \n",
       "2    std              2.61        0.27                     1.73   \n",
       "3    min              0.00        0.00                     0.00   \n",
       "4    25%              5.00        1.00                     1.00   \n",
       "5    50%              7.00        1.00                     2.00   \n",
       "6    75%              9.00        1.00                     3.00   \n",
       "7    max             11.00        1.00                     9.00   \n",
       "\n",
       "   Going_outside  Drained_after_socializing  Friends_circle_size  \\\n",
       "0        1409.00                    1409.00              1409.00   \n",
       "1           1.31                       0.92                 3.28   \n",
       "2           1.39                       0.27                 2.57   \n",
       "3           0.00                       0.00                 0.00   \n",
       "4           0.00                       1.00                 2.00   \n",
       "5           1.00                       1.00                 3.00   \n",
       "6           2.00                       1.00                 4.00   \n",
       "7           7.00                       1.00                14.00   \n",
       "\n",
       "   Post_frequency  \n",
       "0         1409.00  \n",
       "1            1.42  \n",
       "2            1.58  \n",
       "3            0.00  \n",
       "4            0.00  \n",
       "5            1.00  \n",
       "6            2.00  \n",
       "7            9.00  "
      ]
     },
     "execution_count": 13,
     "metadata": {},
     "output_type": "execute_result"
    }
   ],
   "source": [
    "introverts_statistics = df_v2['Personality'] == 0\n",
    "introverts = df_v2[introverts_statistics].describe().round(2).reset_index().drop('Personality', axis=1)\n",
    "introverts"
   ]
  },
  {
   "cell_type": "code",
   "execution_count": 14,
   "id": "7a71a01a",
   "metadata": {
    "execution": {
     "iopub.execute_input": "2025-07-03T15:34:51.716017Z",
     "iopub.status.busy": "2025-07-03T15:34:51.715704Z",
     "iopub.status.idle": "2025-07-03T15:34:51.746651Z",
     "shell.execute_reply": "2025-07-03T15:34:51.745574Z"
    },
    "papermill": {
     "duration": 0.042002,
     "end_time": "2025-07-03T15:34:51.748366",
     "exception": false,
     "start_time": "2025-07-03T15:34:51.706364",
     "status": "completed"
    },
    "tags": []
   },
   "outputs": [
    {
     "data": {
      "text/html": [
       "<div>\n",
       "<style scoped>\n",
       "    .dataframe tbody tr th:only-of-type {\n",
       "        vertical-align: middle;\n",
       "    }\n",
       "\n",
       "    .dataframe tbody tr th {\n",
       "        vertical-align: top;\n",
       "    }\n",
       "\n",
       "    .dataframe thead th {\n",
       "        text-align: right;\n",
       "    }\n",
       "</style>\n",
       "<table border=\"1\" class=\"dataframe\">\n",
       "  <thead>\n",
       "    <tr style=\"text-align: right;\">\n",
       "      <th></th>\n",
       "      <th>index</th>\n",
       "      <th>Time_spent_Alone</th>\n",
       "      <th>Stage_fear</th>\n",
       "      <th>Social_event_attendance</th>\n",
       "      <th>Going_outside</th>\n",
       "      <th>Drained_after_socializing</th>\n",
       "      <th>Friends_circle_size</th>\n",
       "      <th>Post_frequency</th>\n",
       "    </tr>\n",
       "  </thead>\n",
       "  <tbody>\n",
       "    <tr>\n",
       "      <th>0</th>\n",
       "      <td>count</td>\n",
       "      <td>1491.00</td>\n",
       "      <td>1491.00</td>\n",
       "      <td>1491.00</td>\n",
       "      <td>1491.00</td>\n",
       "      <td>1491.00</td>\n",
       "      <td>1491.00</td>\n",
       "      <td>1491.00</td>\n",
       "    </tr>\n",
       "    <tr>\n",
       "      <th>1</th>\n",
       "      <td>mean</td>\n",
       "      <td>2.12</td>\n",
       "      <td>0.07</td>\n",
       "      <td>5.98</td>\n",
       "      <td>4.60</td>\n",
       "      <td>0.07</td>\n",
       "      <td>9.10</td>\n",
       "      <td>5.59</td>\n",
       "    </tr>\n",
       "    <tr>\n",
       "      <th>2</th>\n",
       "      <td>std</td>\n",
       "      <td>2.21</td>\n",
       "      <td>0.26</td>\n",
       "      <td>2.21</td>\n",
       "      <td>1.59</td>\n",
       "      <td>0.26</td>\n",
       "      <td>3.49</td>\n",
       "      <td>2.34</td>\n",
       "    </tr>\n",
       "    <tr>\n",
       "      <th>3</th>\n",
       "      <td>min</td>\n",
       "      <td>0.00</td>\n",
       "      <td>0.00</td>\n",
       "      <td>0.00</td>\n",
       "      <td>0.00</td>\n",
       "      <td>0.00</td>\n",
       "      <td>0.00</td>\n",
       "      <td>0.00</td>\n",
       "    </tr>\n",
       "    <tr>\n",
       "      <th>4</th>\n",
       "      <td>25%</td>\n",
       "      <td>1.00</td>\n",
       "      <td>0.00</td>\n",
       "      <td>4.00</td>\n",
       "      <td>4.00</td>\n",
       "      <td>0.00</td>\n",
       "      <td>6.27</td>\n",
       "      <td>4.00</td>\n",
       "    </tr>\n",
       "    <tr>\n",
       "      <th>5</th>\n",
       "      <td>50%</td>\n",
       "      <td>2.00</td>\n",
       "      <td>0.00</td>\n",
       "      <td>6.00</td>\n",
       "      <td>5.00</td>\n",
       "      <td>0.00</td>\n",
       "      <td>9.00</td>\n",
       "      <td>6.00</td>\n",
       "    </tr>\n",
       "    <tr>\n",
       "      <th>6</th>\n",
       "      <td>75%</td>\n",
       "      <td>3.00</td>\n",
       "      <td>0.00</td>\n",
       "      <td>8.00</td>\n",
       "      <td>6.00</td>\n",
       "      <td>0.00</td>\n",
       "      <td>12.00</td>\n",
       "      <td>7.00</td>\n",
       "    </tr>\n",
       "    <tr>\n",
       "      <th>7</th>\n",
       "      <td>max</td>\n",
       "      <td>11.00</td>\n",
       "      <td>1.00</td>\n",
       "      <td>10.00</td>\n",
       "      <td>7.00</td>\n",
       "      <td>1.00</td>\n",
       "      <td>15.00</td>\n",
       "      <td>10.00</td>\n",
       "    </tr>\n",
       "  </tbody>\n",
       "</table>\n",
       "</div>"
      ],
      "text/plain": [
       "   index  Time_spent_Alone  Stage_fear  Social_event_attendance  \\\n",
       "0  count           1491.00     1491.00                  1491.00   \n",
       "1   mean              2.12        0.07                     5.98   \n",
       "2    std              2.21        0.26                     2.21   \n",
       "3    min              0.00        0.00                     0.00   \n",
       "4    25%              1.00        0.00                     4.00   \n",
       "5    50%              2.00        0.00                     6.00   \n",
       "6    75%              3.00        0.00                     8.00   \n",
       "7    max             11.00        1.00                    10.00   \n",
       "\n",
       "   Going_outside  Drained_after_socializing  Friends_circle_size  \\\n",
       "0        1491.00                    1491.00              1491.00   \n",
       "1           4.60                       0.07                 9.10   \n",
       "2           1.59                       0.26                 3.49   \n",
       "3           0.00                       0.00                 0.00   \n",
       "4           4.00                       0.00                 6.27   \n",
       "5           5.00                       0.00                 9.00   \n",
       "6           6.00                       0.00                12.00   \n",
       "7           7.00                       1.00                15.00   \n",
       "\n",
       "   Post_frequency  \n",
       "0         1491.00  \n",
       "1            5.59  \n",
       "2            2.34  \n",
       "3            0.00  \n",
       "4            4.00  \n",
       "5            6.00  \n",
       "6            7.00  \n",
       "7           10.00  "
      ]
     },
     "execution_count": 14,
     "metadata": {},
     "output_type": "execute_result"
    }
   ],
   "source": [
    "extroverts_statistics = df_v2['Personality'] == 1\n",
    "extroverts = df_v2[extroverts_statistics].describe().round(2).reset_index().drop('Personality', axis=1)\n",
    "extroverts"
   ]
  },
  {
   "cell_type": "markdown",
   "id": "af12cc2f",
   "metadata": {
    "papermill": {
     "duration": 0.008654,
     "end_time": "2025-07-03T15:34:51.765692",
     "exception": false,
     "start_time": "2025-07-03T15:34:51.757038",
     "status": "completed"
    },
    "tags": []
   },
   "source": [
    "## **Insights**\n",
    "--\n",
    "\n",
    "### **Statistics**:\n",
    "* Extrovert people tend to spend on average 3 times more time speaking with other people, posting and going outside than introverts. Introverts on the other hand tend to stay alone and don't have big friendship circles. This results in stage fear, less social event attendance and also the out of energy feeling when they need to interact with more people.\n",
    "* The dependent Y (Personality) variable fits too well with the data collected. It means that it's easy to understand the correlation of the X features with the Y, and based on this data, a ML model would perform very well, however would also present overfitting tendencies.\n",
    "\n",
    "# **Thank You for taking the time to view this Notebook**!\n",
    "​\n",
    "If you found this analysis useful and have any feedback or suggestions, don't hesitate to contact me! We are here to learn!"
   ]
  }
 ],
 "metadata": {
  "kaggle": {
   "accelerator": "none",
   "dataSources": [
    {
     "datasetId": 7474089,
     "sourceId": 12156348,
     "sourceType": "datasetVersion"
    }
   ],
   "dockerImageVersionId": 31040,
   "isGpuEnabled": false,
   "isInternetEnabled": true,
   "language": "python",
   "sourceType": "notebook"
  },
  "kernelspec": {
   "display_name": "Python 3",
   "language": "python",
   "name": "python3"
  },
  "language_info": {
   "codemirror_mode": {
    "name": "ipython",
    "version": 3
   },
   "file_extension": ".py",
   "mimetype": "text/x-python",
   "name": "python",
   "nbconvert_exporter": "python",
   "pygments_lexer": "ipython3",
   "version": "3.11.11"
  },
  "papermill": {
   "default_parameters": {},
   "duration": 11.758493,
   "end_time": "2025-07-03T15:34:52.495775",
   "environment_variables": {},
   "exception": null,
   "input_path": "__notebook__.ipynb",
   "output_path": "__notebook__.ipynb",
   "parameters": {},
   "start_time": "2025-07-03T15:34:40.737282",
   "version": "2.6.0"
  }
 },
 "nbformat": 4,
 "nbformat_minor": 5
}
