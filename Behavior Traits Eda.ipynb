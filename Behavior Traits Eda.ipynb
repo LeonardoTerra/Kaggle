{
 "cells": [
  {
   "cell_type": "markdown",
   "id": "7a421138",
   "metadata": {
    "papermill": {
     "duration": 0.006523,
     "end_time": "2025-07-03T13:01:23.939909",
     "exception": false,
     "start_time": "2025-07-03T13:01:23.933386",
     "status": "completed"
    },
    "tags": []
   },
   "source": [
    " **Dataset**\n",
    "--\n",
    "    Data Science EDA\n",
    "    \n",
    "### **Data Description**\n",
    "The dataset was collected through Google Forms as part of a college-level student research project focused on personality traits and behavioral tendencies among students. Participants responded to questions on a 0–10 scale for consistency and simplicity in analysis.\n",
    "\n",
    "### **Features**\n",
    "    Time_spent_Alone: Hours spent alone daily (0–11)\n",
    "    \n",
    "    Stage_fear: Presence of stage fright (Yes/No)\n",
    "    \n",
    "    Social_event_attendance: Frequency of social events (0–10)\n",
    "    \n",
    "    Going_outside: Frequency of going outside (0–7)\n",
    "    \n",
    "    Drained_after_socializing: Feeling drained after socializing (Yes/No)\n",
    "    \n",
    "    Friends_circle_size: Number of close friends (0–15)\n",
    "    \n",
    "    Post_frequency: Social media post frequency (0–10)\n",
    "    \n",
    "    Personality: Target variable (Extrovert/Introvert)"
   ]
  },
  {
   "cell_type": "markdown",
   "id": "dce4ed72",
   "metadata": {
    "papermill": {
     "duration": 0.004098,
     "end_time": "2025-07-03T13:01:23.948641",
     "exception": false,
     "start_time": "2025-07-03T13:01:23.944543",
     "status": "completed"
    },
    "tags": []
   },
   "source": [
    "## **Import Libraries**"
   ]
  },
  {
   "cell_type": "code",
   "execution_count": 1,
   "id": "eb579d51",
   "metadata": {
    "_cell_guid": "b1076dfc-b9ad-4769-8c92-a6c4dae69d19",
    "_uuid": "8f2839f25d086af736a60e9eeb907d3b93b6e0e5",
    "execution": {
     "iopub.execute_input": "2025-07-03T13:01:23.960329Z",
     "iopub.status.busy": "2025-07-03T13:01:23.959874Z",
     "iopub.status.idle": "2025-07-03T13:01:26.223981Z",
     "shell.execute_reply": "2025-07-03T13:01:26.222896Z"
    },
    "papermill": {
     "duration": 2.27235,
     "end_time": "2025-07-03T13:01:26.225714",
     "exception": false,
     "start_time": "2025-07-03T13:01:23.953364",
     "status": "completed"
    },
    "tags": []
   },
   "outputs": [
    {
     "name": "stdout",
     "output_type": "stream",
     "text": [
      "/kaggle/input/extrovert-vs-introvert-behavior-data/personality_datasert.csv\n",
      "/kaggle/input/extrovert-vs-introvert-behavior-data/personality_dataset.csv\n"
     ]
    }
   ],
   "source": [
    "# This Python 3 environment comes with many helpful analytics libraries installed\n",
    "# It is defined by the kaggle/python Docker image: https://github.com/kaggle/docker-python\n",
    "# For example, here's several helpful packages to load\n",
    "\n",
    "import numpy as np # linear algebra\n",
    "import pandas as pd # data processing, CSV file I/O (e.g. pd.read_csv)\n",
    "\n",
    "# Input data files are available in the read-only \"../input/\" directory\n",
    "# For example, running this (by clicking run or pressing Shift+Enter) will list all files under the input directory\n",
    "\n",
    "import os\n",
    "for dirname, _, filenames in os.walk('/kaggle/input'):\n",
    "    for filename in filenames:\n",
    "        print(os.path.join(dirname, filename))\n",
    "\n",
    "import warnings \n",
    "warnings.filterwarnings('ignore')\n",
    "\n",
    "# You can write up to 20GB to the current directory (/kaggle/working/) that gets preserved as output when you create a version using \"Save & Run All\" \n",
    "# You can also write temporary files to /kaggle/temp/, but they won't be saved outside of the current session"
   ]
  },
  {
   "cell_type": "code",
   "execution_count": 2,
   "id": "e52e2352",
   "metadata": {
    "execution": {
     "iopub.execute_input": "2025-07-03T13:01:26.236311Z",
     "iopub.status.busy": "2025-07-03T13:01:26.235825Z",
     "iopub.status.idle": "2025-07-03T13:01:28.530004Z",
     "shell.execute_reply": "2025-07-03T13:01:28.528747Z"
    },
    "papermill": {
     "duration": 2.301691,
     "end_time": "2025-07-03T13:01:28.531925",
     "exception": false,
     "start_time": "2025-07-03T13:01:26.230234",
     "status": "completed"
    },
    "tags": []
   },
   "outputs": [],
   "source": [
    "import seaborn as sns\n",
    "import matplotlib.pyplot as plt\n",
    "from matplotlib.ticker import FuncFormatter"
   ]
  },
  {
   "cell_type": "markdown",
   "id": "77756517",
   "metadata": {
    "papermill": {
     "duration": 0.00446,
     "end_time": "2025-07-03T13:01:28.541854",
     "exception": false,
     "start_time": "2025-07-03T13:01:28.537394",
     "status": "completed"
    },
    "tags": []
   },
   "source": [
    "# **EDA**"
   ]
  },
  {
   "cell_type": "markdown",
   "id": "ff9ae682",
   "metadata": {
    "papermill": {
     "duration": 0.004559,
     "end_time": "2025-07-03T13:01:28.550861",
     "exception": false,
     "start_time": "2025-07-03T13:01:28.546302",
     "status": "completed"
    },
    "tags": []
   },
   "source": [
    "## **Data Exploration**\n",
    "    During this step we can explore the shape of the data we are working with. It's usual to check and deal with the number of columns and rows, missing values, outliers and other inconsistencies that might appear.\n",
    "--"
   ]
  },
  {
   "cell_type": "code",
   "execution_count": 3,
   "id": "b434e9aa",
   "metadata": {
    "execution": {
     "iopub.execute_input": "2025-07-03T13:01:28.561204Z",
     "iopub.status.busy": "2025-07-03T13:01:28.560678Z",
     "iopub.status.idle": "2025-07-03T13:01:28.621167Z",
     "shell.execute_reply": "2025-07-03T13:01:28.619877Z"
    },
    "papermill": {
     "duration": 0.067936,
     "end_time": "2025-07-03T13:01:28.623040",
     "exception": false,
     "start_time": "2025-07-03T13:01:28.555104",
     "status": "completed"
    },
    "tags": []
   },
   "outputs": [
    {
     "data": {
      "text/html": [
       "<div>\n",
       "<style scoped>\n",
       "    .dataframe tbody tr th:only-of-type {\n",
       "        vertical-align: middle;\n",
       "    }\n",
       "\n",
       "    .dataframe tbody tr th {\n",
       "        vertical-align: top;\n",
       "    }\n",
       "\n",
       "    .dataframe thead th {\n",
       "        text-align: right;\n",
       "    }\n",
       "</style>\n",
       "<table border=\"1\" class=\"dataframe\">\n",
       "  <thead>\n",
       "    <tr style=\"text-align: right;\">\n",
       "      <th></th>\n",
       "      <th>Time_spent_Alone</th>\n",
       "      <th>Stage_fear</th>\n",
       "      <th>Social_event_attendance</th>\n",
       "      <th>Going_outside</th>\n",
       "      <th>Drained_after_socializing</th>\n",
       "      <th>Friends_circle_size</th>\n",
       "      <th>Post_frequency</th>\n",
       "      <th>Personality</th>\n",
       "    </tr>\n",
       "  </thead>\n",
       "  <tbody>\n",
       "    <tr>\n",
       "      <th>0</th>\n",
       "      <td>4.0</td>\n",
       "      <td>No</td>\n",
       "      <td>4.0</td>\n",
       "      <td>6.0</td>\n",
       "      <td>No</td>\n",
       "      <td>13.0</td>\n",
       "      <td>5.0</td>\n",
       "      <td>Extrovert</td>\n",
       "    </tr>\n",
       "    <tr>\n",
       "      <th>1</th>\n",
       "      <td>9.0</td>\n",
       "      <td>Yes</td>\n",
       "      <td>0.0</td>\n",
       "      <td>0.0</td>\n",
       "      <td>Yes</td>\n",
       "      <td>0.0</td>\n",
       "      <td>3.0</td>\n",
       "      <td>Introvert</td>\n",
       "    </tr>\n",
       "    <tr>\n",
       "      <th>2</th>\n",
       "      <td>9.0</td>\n",
       "      <td>Yes</td>\n",
       "      <td>1.0</td>\n",
       "      <td>2.0</td>\n",
       "      <td>Yes</td>\n",
       "      <td>5.0</td>\n",
       "      <td>2.0</td>\n",
       "      <td>Introvert</td>\n",
       "    </tr>\n",
       "    <tr>\n",
       "      <th>3</th>\n",
       "      <td>0.0</td>\n",
       "      <td>No</td>\n",
       "      <td>6.0</td>\n",
       "      <td>7.0</td>\n",
       "      <td>No</td>\n",
       "      <td>14.0</td>\n",
       "      <td>8.0</td>\n",
       "      <td>Extrovert</td>\n",
       "    </tr>\n",
       "    <tr>\n",
       "      <th>4</th>\n",
       "      <td>3.0</td>\n",
       "      <td>No</td>\n",
       "      <td>9.0</td>\n",
       "      <td>4.0</td>\n",
       "      <td>No</td>\n",
       "      <td>8.0</td>\n",
       "      <td>5.0</td>\n",
       "      <td>Extrovert</td>\n",
       "    </tr>\n",
       "    <tr>\n",
       "      <th>...</th>\n",
       "      <td>...</td>\n",
       "      <td>...</td>\n",
       "      <td>...</td>\n",
       "      <td>...</td>\n",
       "      <td>...</td>\n",
       "      <td>...</td>\n",
       "      <td>...</td>\n",
       "      <td>...</td>\n",
       "    </tr>\n",
       "    <tr>\n",
       "      <th>2895</th>\n",
       "      <td>3.0</td>\n",
       "      <td>No</td>\n",
       "      <td>7.0</td>\n",
       "      <td>6.0</td>\n",
       "      <td>No</td>\n",
       "      <td>6.0</td>\n",
       "      <td>6.0</td>\n",
       "      <td>Extrovert</td>\n",
       "    </tr>\n",
       "    <tr>\n",
       "      <th>2896</th>\n",
       "      <td>3.0</td>\n",
       "      <td>No</td>\n",
       "      <td>8.0</td>\n",
       "      <td>3.0</td>\n",
       "      <td>No</td>\n",
       "      <td>14.0</td>\n",
       "      <td>9.0</td>\n",
       "      <td>Extrovert</td>\n",
       "    </tr>\n",
       "    <tr>\n",
       "      <th>2897</th>\n",
       "      <td>4.0</td>\n",
       "      <td>Yes</td>\n",
       "      <td>1.0</td>\n",
       "      <td>1.0</td>\n",
       "      <td>Yes</td>\n",
       "      <td>4.0</td>\n",
       "      <td>0.0</td>\n",
       "      <td>Introvert</td>\n",
       "    </tr>\n",
       "    <tr>\n",
       "      <th>2898</th>\n",
       "      <td>11.0</td>\n",
       "      <td>Yes</td>\n",
       "      <td>1.0</td>\n",
       "      <td>NaN</td>\n",
       "      <td>Yes</td>\n",
       "      <td>2.0</td>\n",
       "      <td>0.0</td>\n",
       "      <td>Introvert</td>\n",
       "    </tr>\n",
       "    <tr>\n",
       "      <th>2899</th>\n",
       "      <td>3.0</td>\n",
       "      <td>No</td>\n",
       "      <td>6.0</td>\n",
       "      <td>6.0</td>\n",
       "      <td>No</td>\n",
       "      <td>6.0</td>\n",
       "      <td>9.0</td>\n",
       "      <td>Extrovert</td>\n",
       "    </tr>\n",
       "  </tbody>\n",
       "</table>\n",
       "<p>2900 rows × 8 columns</p>\n",
       "</div>"
      ],
      "text/plain": [
       "      Time_spent_Alone Stage_fear  Social_event_attendance  Going_outside  \\\n",
       "0                  4.0         No                      4.0            6.0   \n",
       "1                  9.0        Yes                      0.0            0.0   \n",
       "2                  9.0        Yes                      1.0            2.0   \n",
       "3                  0.0         No                      6.0            7.0   \n",
       "4                  3.0         No                      9.0            4.0   \n",
       "...                ...        ...                      ...            ...   \n",
       "2895               3.0         No                      7.0            6.0   \n",
       "2896               3.0         No                      8.0            3.0   \n",
       "2897               4.0        Yes                      1.0            1.0   \n",
       "2898              11.0        Yes                      1.0            NaN   \n",
       "2899               3.0         No                      6.0            6.0   \n",
       "\n",
       "     Drained_after_socializing  Friends_circle_size  Post_frequency  \\\n",
       "0                           No                 13.0             5.0   \n",
       "1                          Yes                  0.0             3.0   \n",
       "2                          Yes                  5.0             2.0   \n",
       "3                           No                 14.0             8.0   \n",
       "4                           No                  8.0             5.0   \n",
       "...                        ...                  ...             ...   \n",
       "2895                        No                  6.0             6.0   \n",
       "2896                        No                 14.0             9.0   \n",
       "2897                       Yes                  4.0             0.0   \n",
       "2898                       Yes                  2.0             0.0   \n",
       "2899                        No                  6.0             9.0   \n",
       "\n",
       "     Personality  \n",
       "0      Extrovert  \n",
       "1      Introvert  \n",
       "2      Introvert  \n",
       "3      Extrovert  \n",
       "4      Extrovert  \n",
       "...          ...  \n",
       "2895   Extrovert  \n",
       "2896   Extrovert  \n",
       "2897   Introvert  \n",
       "2898   Introvert  \n",
       "2899   Extrovert  \n",
       "\n",
       "[2900 rows x 8 columns]"
      ]
     },
     "execution_count": 3,
     "metadata": {},
     "output_type": "execute_result"
    }
   ],
   "source": [
    "df = pd.read_csv('/kaggle/input/extrovert-vs-introvert-behavior-data/personality_dataset.csv')\n",
    "df"
   ]
  },
  {
   "cell_type": "code",
   "execution_count": 4,
   "id": "fc7cb4f8",
   "metadata": {
    "execution": {
     "iopub.execute_input": "2025-07-03T13:01:28.636381Z",
     "iopub.status.busy": "2025-07-03T13:01:28.636040Z",
     "iopub.status.idle": "2025-07-03T13:01:28.643716Z",
     "shell.execute_reply": "2025-07-03T13:01:28.642755Z"
    },
    "papermill": {
     "duration": 0.016155,
     "end_time": "2025-07-03T13:01:28.645334",
     "exception": false,
     "start_time": "2025-07-03T13:01:28.629179",
     "status": "completed"
    },
    "tags": []
   },
   "outputs": [
    {
     "data": {
      "text/plain": [
       "Time_spent_Alone             float64\n",
       "Stage_fear                    object\n",
       "Social_event_attendance      float64\n",
       "Going_outside                float64\n",
       "Drained_after_socializing     object\n",
       "Friends_circle_size          float64\n",
       "Post_frequency               float64\n",
       "Personality                   object\n",
       "dtype: object"
      ]
     },
     "execution_count": 4,
     "metadata": {},
     "output_type": "execute_result"
    }
   ],
   "source": [
    "df.dtypes"
   ]
  },
  {
   "cell_type": "code",
   "execution_count": 5,
   "id": "55540726",
   "metadata": {
    "execution": {
     "iopub.execute_input": "2025-07-03T13:01:28.658261Z",
     "iopub.status.busy": "2025-07-03T13:01:28.657901Z",
     "iopub.status.idle": "2025-07-03T13:01:28.666963Z",
     "shell.execute_reply": "2025-07-03T13:01:28.666043Z"
    },
    "papermill": {
     "duration": 0.0178,
     "end_time": "2025-07-03T13:01:28.668526",
     "exception": false,
     "start_time": "2025-07-03T13:01:28.650726",
     "status": "completed"
    },
    "tags": []
   },
   "outputs": [
    {
     "data": {
      "text/plain": [
       "Time_spent_Alone             0.021724\n",
       "Stage_fear                   0.025172\n",
       "Social_event_attendance      0.021379\n",
       "Going_outside                0.022759\n",
       "Drained_after_socializing    0.017931\n",
       "Friends_circle_size          0.026552\n",
       "Post_frequency               0.022414\n",
       "Personality                  0.000000\n",
       "dtype: float64"
      ]
     },
     "execution_count": 5,
     "metadata": {},
     "output_type": "execute_result"
    }
   ],
   "source": [
    "df.isna().mean() # Evaluating the % of missing values in every column"
   ]
  },
  {
   "cell_type": "code",
   "execution_count": 6,
   "id": "56c73ac7",
   "metadata": {
    "execution": {
     "iopub.execute_input": "2025-07-03T13:01:28.680152Z",
     "iopub.status.busy": "2025-07-03T13:01:28.679800Z",
     "iopub.status.idle": "2025-07-03T13:01:28.687291Z",
     "shell.execute_reply": "2025-07-03T13:01:28.686217Z"
    },
    "papermill": {
     "duration": 0.015598,
     "end_time": "2025-07-03T13:01:28.689137",
     "exception": false,
     "start_time": "2025-07-03T13:01:28.673539",
     "status": "completed"
    },
    "tags": []
   },
   "outputs": [
    {
     "data": {
      "text/plain": [
       "['Time_spent_Alone',\n",
       " 'Social_event_attendance',\n",
       " 'Going_outside',\n",
       " 'Friends_circle_size',\n",
       " 'Post_frequency']"
      ]
     },
     "execution_count": 6,
     "metadata": {},
     "output_type": "execute_result"
    }
   ],
   "source": [
    "# Getting numeric columns to assess outliers\n",
    "numeric_df_columns = df.select_dtypes(include=['int64', 'float64']).columns.tolist()\n",
    "numeric_df_columns"
   ]
  },
  {
   "cell_type": "markdown",
   "id": "0f0264c5",
   "metadata": {
    "papermill": {
     "duration": 0.005129,
     "end_time": "2025-07-03T13:01:28.699572",
     "exception": false,
     "start_time": "2025-07-03T13:01:28.694443",
     "status": "completed"
    },
    "tags": []
   },
   "source": [
    "##### **BoxPlots to assess outliers and missing values**"
   ]
  },
  {
   "cell_type": "code",
   "execution_count": 7,
   "id": "96c01b72",
   "metadata": {
    "execution": {
     "iopub.execute_input": "2025-07-03T13:01:28.713606Z",
     "iopub.status.busy": "2025-07-03T13:01:28.713262Z",
     "iopub.status.idle": "2025-07-03T13:01:29.606265Z",
     "shell.execute_reply": "2025-07-03T13:01:29.605312Z"
    },
    "papermill": {
     "duration": 0.900693,
     "end_time": "2025-07-03T13:01:29.607819",
     "exception": false,
     "start_time": "2025-07-03T13:01:28.707126",
     "status": "completed"
    },
    "tags": []
   },
   "outputs": [
    {
     "data": {
      "image/png": "[encoded data removed]",
      "text/plain": [
       "<Figure size 1600x400 with 6 Axes>"
      ]
     },
     "metadata": {},
     "output_type": "display_data"
    }
   ],
   "source": [
    "fig, ax = plt.subplots(nrows=2, ncols=3, figsize=(16, 4))\n",
    "\n",
    "ax[0,0] = sns.boxplot(data=df, x= 'Time_spent_Alone', color='#DDDDDD', ax=ax[0,0])\n",
    "ax[0,1] = sns.boxplot(data=df, x= 'Social_event_attendance', color='#DDDDDD', ax=ax[0,1])\n",
    "ax[0,2] = sns.boxplot(data=df, x= 'Going_outside', color='#DDDDDD', ax=ax[0,2])\n",
    "ax[1,0] = sns.boxplot(data=df, x= 'Friends_circle_size', color='#DDDDDD', ax=ax[1,0])\n",
    "ax[1,1] = sns.boxplot(data=df, x= 'Post_frequency', color='#DDDDDD', ax=ax[1,1])\n",
    "\n",
    "sns.despine(left=False, right=True, top=True, bottom=False)\n",
    "plt.tight_layout()"
   ]
  },
  {
   "cell_type": "code",
   "execution_count": 8,
   "id": "6575f9ce",
   "metadata": {
    "execution": {
     "iopub.execute_input": "2025-07-03T13:01:29.620014Z",
     "iopub.status.busy": "2025-07-03T13:01:29.619635Z",
     "iopub.status.idle": "2025-07-03T13:01:29.636533Z",
     "shell.execute_reply": "2025-07-03T13:01:29.635544Z"
    },
    "papermill": {
     "duration": 0.024728,
     "end_time": "2025-07-03T13:01:29.638052",
     "exception": false,
     "start_time": "2025-07-03T13:01:29.613324",
     "status": "completed"
    },
    "tags": []
   },
   "outputs": [
    {
     "data": {
      "text/html": [
       "<div>\n",
       "<style scoped>\n",
       "    .dataframe tbody tr th:only-of-type {\n",
       "        vertical-align: middle;\n",
       "    }\n",
       "\n",
       "    .dataframe tbody tr th {\n",
       "        vertical-align: top;\n",
       "    }\n",
       "\n",
       "    .dataframe thead th {\n",
       "        text-align: right;\n",
       "    }\n",
       "</style>\n",
       "<table border=\"1\" class=\"dataframe\">\n",
       "  <thead>\n",
       "    <tr style=\"text-align: right;\">\n",
       "      <th></th>\n",
       "      <th>Stage_fear</th>\n",
       "      <th>Drained_after_socializing</th>\n",
       "    </tr>\n",
       "  </thead>\n",
       "  <tbody>\n",
       "    <tr>\n",
       "      <th>0</th>\n",
       "      <td>No</td>\n",
       "      <td>No</td>\n",
       "    </tr>\n",
       "  </tbody>\n",
       "</table>\n",
       "</div>"
      ],
      "text/plain": [
       "  Stage_fear Drained_after_socializing\n",
       "0         No                        No"
      ]
     },
     "execution_count": 8,
     "metadata": {},
     "output_type": "execute_result"
    }
   ],
   "source": [
    "#Getting Object columns to assess missing values\n",
    "\n",
    "object_df_columns = df.select_dtypes(include='object').columns.tolist()\n",
    "object_df_columns.remove('Personality')\n",
    "df[object_df_columns].mode()"
   ]
  },
  {
   "cell_type": "code",
   "execution_count": 9,
   "id": "826a5182",
   "metadata": {
    "execution": {
     "iopub.execute_input": "2025-07-03T13:01:29.651529Z",
     "iopub.status.busy": "2025-07-03T13:01:29.651188Z",
     "iopub.status.idle": "2025-07-03T13:01:29.672586Z",
     "shell.execute_reply": "2025-07-03T13:01:29.671673Z"
    },
    "papermill": {
     "duration": 0.030134,
     "end_time": "2025-07-03T13:01:29.674198",
     "exception": false,
     "start_time": "2025-07-03T13:01:29.644064",
     "status": "completed"
    },
    "tags": []
   },
   "outputs": [
    {
     "data": {
      "text/plain": [
       "Time_spent_Alone             0.0\n",
       "Stage_fear                   0.0\n",
       "Social_event_attendance      0.0\n",
       "Going_outside                0.0\n",
       "Drained_after_socializing    0.0\n",
       "Friends_circle_size          0.0\n",
       "Post_frequency               0.0\n",
       "Personality                  0.0\n",
       "dtype: float64"
      ]
     },
     "execution_count": 9,
     "metadata": {},
     "output_type": "execute_result"
    }
   ],
   "source": [
    "# Since we have no outliers and <5% are missing, we will input the mode in the Object columns and the mean in the numeric columns. \n",
    "\n",
    "df_v2 = df\n",
    "df_v2[object_df_columns] = df_v2[object_df_columns].apply(lambda col: col.fillna(col.mode()[0]))\n",
    "df_v2[numeric_df_columns] = df_v2[numeric_df_columns].apply(lambda col: col.fillna(col.mean()))\n",
    "df_v2.isna().mean() # checking the number of outliers after treatment"
   ]
  },
  {
   "cell_type": "markdown",
   "id": "ae883ed3",
   "metadata": {
    "papermill": {
     "duration": 0.005475,
     "end_time": "2025-07-03T13:01:29.685299",
     "exception": false,
     "start_time": "2025-07-03T13:01:29.679824",
     "status": "completed"
    },
    "tags": []
   },
   "source": [
    "##### **Encoding Categorical features**"
   ]
  },
  {
   "cell_type": "code",
   "execution_count": 10,
   "id": "f4d4f875",
   "metadata": {
    "execution": {
     "iopub.execute_input": "2025-07-03T13:01:29.698704Z",
     "iopub.status.busy": "2025-07-03T13:01:29.698329Z",
     "iopub.status.idle": "2025-07-03T13:01:29.716683Z",
     "shell.execute_reply": "2025-07-03T13:01:29.715717Z"
    },
    "papermill": {
     "duration": 0.026804,
     "end_time": "2025-07-03T13:01:29.718243",
     "exception": false,
     "start_time": "2025-07-03T13:01:29.691439",
     "status": "completed"
    },
    "tags": []
   },
   "outputs": [
    {
     "data": {
      "text/html": [
       "<div>\n",
       "<style scoped>\n",
       "    .dataframe tbody tr th:only-of-type {\n",
       "        vertical-align: middle;\n",
       "    }\n",
       "\n",
       "    .dataframe tbody tr th {\n",
       "        vertical-align: top;\n",
       "    }\n",
       "\n",
       "    .dataframe thead th {\n",
       "        text-align: right;\n",
       "    }\n",
       "</style>\n",
       "<table border=\"1\" class=\"dataframe\">\n",
       "  <thead>\n",
       "    <tr style=\"text-align: right;\">\n",
       "      <th></th>\n",
       "      <th>Time_spent_Alone</th>\n",
       "      <th>Stage_fear</th>\n",
       "      <th>Social_event_attendance</th>\n",
       "      <th>Going_outside</th>\n",
       "      <th>Drained_after_socializing</th>\n",
       "      <th>Friends_circle_size</th>\n",
       "      <th>Post_frequency</th>\n",
       "      <th>Personality</th>\n",
       "    </tr>\n",
       "  </thead>\n",
       "  <tbody>\n",
       "    <tr>\n",
       "      <th>0</th>\n",
       "      <td>4.0</td>\n",
       "      <td>0</td>\n",
       "      <td>4.0</td>\n",
       "      <td>6.0</td>\n",
       "      <td>0</td>\n",
       "      <td>13.0</td>\n",
       "      <td>5.0</td>\n",
       "      <td>1</td>\n",
       "    </tr>\n",
       "    <tr>\n",
       "      <th>1</th>\n",
       "      <td>9.0</td>\n",
       "      <td>1</td>\n",
       "      <td>0.0</td>\n",
       "      <td>0.0</td>\n",
       "      <td>1</td>\n",
       "      <td>0.0</td>\n",
       "      <td>3.0</td>\n",
       "      <td>0</td>\n",
       "    </tr>\n",
       "    <tr>\n",
       "      <th>2</th>\n",
       "      <td>9.0</td>\n",
       "      <td>1</td>\n",
       "      <td>1.0</td>\n",
       "      <td>2.0</td>\n",
       "      <td>1</td>\n",
       "      <td>5.0</td>\n",
       "      <td>2.0</td>\n",
       "      <td>0</td>\n",
       "    </tr>\n",
       "    <tr>\n",
       "      <th>3</th>\n",
       "      <td>0.0</td>\n",
       "      <td>0</td>\n",
       "      <td>6.0</td>\n",
       "      <td>7.0</td>\n",
       "      <td>0</td>\n",
       "      <td>14.0</td>\n",
       "      <td>8.0</td>\n",
       "      <td>1</td>\n",
       "    </tr>\n",
       "    <tr>\n",
       "      <th>4</th>\n",
       "      <td>3.0</td>\n",
       "      <td>0</td>\n",
       "      <td>9.0</td>\n",
       "      <td>4.0</td>\n",
       "      <td>0</td>\n",
       "      <td>8.0</td>\n",
       "      <td>5.0</td>\n",
       "      <td>1</td>\n",
       "    </tr>\n",
       "  </tbody>\n",
       "</table>\n",
       "</div>"
      ],
      "text/plain": [
       "   Time_spent_Alone  Stage_fear  Social_event_attendance  Going_outside  \\\n",
       "0               4.0           0                      4.0            6.0   \n",
       "1               9.0           1                      0.0            0.0   \n",
       "2               9.0           1                      1.0            2.0   \n",
       "3               0.0           0                      6.0            7.0   \n",
       "4               3.0           0                      9.0            4.0   \n",
       "\n",
       "   Drained_after_socializing  Friends_circle_size  Post_frequency  Personality  \n",
       "0                          0                 13.0             5.0            1  \n",
       "1                          1                  0.0             3.0            0  \n",
       "2                          1                  5.0             2.0            0  \n",
       "3                          0                 14.0             8.0            1  \n",
       "4                          0                  8.0             5.0            1  "
      ]
     },
     "execution_count": 10,
     "metadata": {},
     "output_type": "execute_result"
    }
   ],
   "source": [
    "df_v2['Stage_fear'] = df_v2['Stage_fear'].map({'Yes':1, 'No':0})\n",
    "df_v2['Drained_after_socializing'] = df_v2['Drained_after_socializing'].map({'Yes':1, 'No':0})\n",
    "df_v2['Personality'] = df_v2['Personality'].map({'Extrovert':1, 'Introvert':0})\n",
    "df_v2.head()"
   ]
  },
  {
   "cell_type": "markdown",
   "id": "75f0b710",
   "metadata": {
    "papermill": {
     "duration": 0.00536,
     "end_time": "2025-07-03T13:01:29.729445",
     "exception": false,
     "start_time": "2025-07-03T13:01:29.724085",
     "status": "completed"
    },
    "tags": []
   },
   "source": [
    "## **Statistical Analysis**\n",
    "    This step seeks to understand the interaction and correlation among the features. Here it's possible to check multicolinearity, plot visulizations and highlight key points.\n",
    "--"
   ]
  },
  {
   "cell_type": "markdown",
   "id": "7e222c68",
   "metadata": {
    "papermill": {
     "duration": 0.005496,
     "end_time": "2025-07-03T13:01:29.740494",
     "exception": false,
     "start_time": "2025-07-03T13:01:29.734998",
     "status": "completed"
    },
    "tags": []
   },
   "source": [
    "##### **Visualization plots to describe the data**"
   ]
  },
  {
   "cell_type": "code",
   "execution_count": 11,
   "id": "b744222d",
   "metadata": {
    "execution": {
     "iopub.execute_input": "2025-07-03T13:01:29.754989Z",
     "iopub.status.busy": "2025-07-03T13:01:29.754125Z",
     "iopub.status.idle": "2025-07-03T13:01:30.698422Z",
     "shell.execute_reply": "2025-07-03T13:01:30.697317Z"
    },
    "papermill": {
     "duration": 0.953618,
     "end_time": "2025-07-03T13:01:30.700161",
     "exception": false,
     "start_time": "2025-07-03T13:01:29.746543",
     "status": "completed"
    },
    "tags": []
   },
   "outputs": [
    {
     "data": {
      "image/png": "[encoded data removed]",
      "text/plain": [
       "<Figure size 1600x400 with 8 Axes>"
      ]
     },
     "metadata": {},
     "output_type": "display_data"
    }
   ],
   "source": [
    "fig, ax = plt.subplots(nrows=2, ncols=4, figsize=(16, 4))\n",
    "\n",
    "ax[0,0] = sns.boxplot(data=df_v2, x= 'Time_spent_Alone', color='#DDDDDD', ax=ax[0,0])\n",
    "ax[0,1] = sns.countplot(data=df_v2, x= 'Stage_fear', color='#DDDDDD', ax=ax[0,1])\n",
    "ax[0,2] = sns.boxplot(data=df_v2, x= 'Social_event_attendance', color='#DDDDDD', ax=ax[0,2])\n",
    "ax[0,3] = sns.boxplot(data=df_v2, x= 'Going_outside', color='#DDDDDD', ax=ax[0,3])\n",
    "ax[1,0] = sns.countplot(data=df_v2, x= 'Drained_after_socializing', color='#DDDDDD', ax=ax[1,0])\n",
    "ax[1,1] = sns.histplot(data=df_v2, x= 'Friends_circle_size', color='#DDDDDD', ax=ax[1,1])\n",
    "ax[1,2] = sns.boxplot(data=df_v2, x= 'Post_frequency', color='#DDDDDD', ax=ax[1,2])\n",
    "ax[1,3] = sns.countplot(data=df_v2, x= 'Personality', color='#DDDDDD', ax=ax[1,3])\n",
    "\n",
    "sns.despine(left=False, right=True, top=True, bottom=False)\n",
    "plt.tight_layout()"
   ]
  },
  {
   "cell_type": "markdown",
   "id": "a85cfbb0",
   "metadata": {
    "papermill": {
     "duration": 0.007131,
     "end_time": "2025-07-03T13:01:30.713914",
     "exception": false,
     "start_time": "2025-07-03T13:01:30.706783",
     "status": "completed"
    },
    "tags": []
   },
   "source": [
    "##### **Correlation of features**"
   ]
  },
  {
   "cell_type": "code",
   "execution_count": 12,
   "id": "0d9d67ad",
   "metadata": {
    "execution": {
     "iopub.execute_input": "2025-07-03T13:01:30.728689Z",
     "iopub.status.busy": "2025-07-03T13:01:30.728303Z",
     "iopub.status.idle": "2025-07-03T13:01:31.213743Z",
     "shell.execute_reply": "2025-07-03T13:01:31.212763Z"
    },
    "papermill": {
     "duration": 0.495248,
     "end_time": "2025-07-03T13:01:31.215446",
     "exception": false,
     "start_time": "2025-07-03T13:01:30.720198",
     "status": "completed"
    },
    "tags": []
   },
   "outputs": [
    {
     "data": {
      "image/png": "[encoded data removed]",
      "text/plain": [
       "<Figure size 1000x600 with 2 Axes>"
      ]
     },
     "metadata": {},
     "output_type": "display_data"
    }
   ],
   "source": [
    "corr = df_v2.corr()\n",
    "mask = np.triu(np.ones_like(corr, dtype=bool)) # Mask to remove the upper side and facilitate visualization\n",
    "\n",
    "plt.figure(figsize=(10,6))\n",
    "sns.heatmap(corr, mask=mask, annot=True, cmap='coolwarm', center=0)\n",
    "\n",
    "sns.despine(left=False, right=True, top=True, bottom=False)\n",
    "plt.title(\"Correlation Analysis\", fontsize=9)\n",
    "plt.tight_layout()"
   ]
  },
  {
   "cell_type": "markdown",
   "id": "14c35f7a",
   "metadata": {
    "papermill": {
     "duration": 0.007545,
     "end_time": "2025-07-03T13:01:31.231230",
     "exception": false,
     "start_time": "2025-07-03T13:01:31.223685",
     "status": "completed"
    },
    "tags": []
   },
   "source": [
    "##### **Descriptive statistics of the Personality groups**"
   ]
  },
  {
   "cell_type": "code",
   "execution_count": 13,
   "id": "983c0081",
   "metadata": {
    "execution": {
     "iopub.execute_input": "2025-07-03T13:01:31.248795Z",
     "iopub.status.busy": "2025-07-03T13:01:31.248420Z",
     "iopub.status.idle": "2025-07-03T13:01:31.278977Z",
     "shell.execute_reply": "2025-07-03T13:01:31.278017Z"
    },
    "papermill": {
     "duration": 0.040957,
     "end_time": "2025-07-03T13:01:31.280379",
     "exception": false,
     "start_time": "2025-07-03T13:01:31.239422",
     "status": "completed"
    },
    "tags": []
   },
   "outputs": [
    {
     "data": {
      "text/html": [
       "<div>\n",
       "<style scoped>\n",
       "    .dataframe tbody tr th:only-of-type {\n",
       "        vertical-align: middle;\n",
       "    }\n",
       "\n",
       "    .dataframe tbody tr th {\n",
       "        vertical-align: top;\n",
       "    }\n",
       "\n",
       "    .dataframe thead th {\n",
       "        text-align: right;\n",
       "    }\n",
       "</style>\n",
       "<table border=\"1\" class=\"dataframe\">\n",
       "  <thead>\n",
       "    <tr style=\"text-align: right;\">\n",
       "      <th></th>\n",
       "      <th>Time_spent_Alone</th>\n",
       "      <th>Stage_fear</th>\n",
       "      <th>Social_event_attendance</th>\n",
       "      <th>Going_outside</th>\n",
       "      <th>Drained_after_socializing</th>\n",
       "      <th>Friends_circle_size</th>\n",
       "      <th>Post_frequency</th>\n",
       "      <th>Personality</th>\n",
       "    </tr>\n",
       "  </thead>\n",
       "  <tbody>\n",
       "    <tr>\n",
       "      <th>count</th>\n",
       "      <td>1409.00</td>\n",
       "      <td>1409.00</td>\n",
       "      <td>1409.00</td>\n",
       "      <td>1409.00</td>\n",
       "      <td>1409.00</td>\n",
       "      <td>1409.00</td>\n",
       "      <td>1409.00</td>\n",
       "      <td>1409.0</td>\n",
       "    </tr>\n",
       "    <tr>\n",
       "      <th>mean</th>\n",
       "      <td>7.03</td>\n",
       "      <td>0.92</td>\n",
       "      <td>1.83</td>\n",
       "      <td>1.31</td>\n",
       "      <td>0.92</td>\n",
       "      <td>3.28</td>\n",
       "      <td>1.42</td>\n",
       "      <td>0.0</td>\n",
       "    </tr>\n",
       "    <tr>\n",
       "      <th>std</th>\n",
       "      <td>2.61</td>\n",
       "      <td>0.27</td>\n",
       "      <td>1.73</td>\n",
       "      <td>1.39</td>\n",
       "      <td>0.27</td>\n",
       "      <td>2.57</td>\n",
       "      <td>1.58</td>\n",
       "      <td>0.0</td>\n",
       "    </tr>\n",
       "    <tr>\n",
       "      <th>min</th>\n",
       "      <td>0.00</td>\n",
       "      <td>0.00</td>\n",
       "      <td>0.00</td>\n",
       "      <td>0.00</td>\n",
       "      <td>0.00</td>\n",
       "      <td>0.00</td>\n",
       "      <td>0.00</td>\n",
       "      <td>0.0</td>\n",
       "    </tr>\n",
       "    <tr>\n",
       "      <th>25%</th>\n",
       "      <td>5.00</td>\n",
       "      <td>1.00</td>\n",
       "      <td>1.00</td>\n",
       "      <td>0.00</td>\n",
       "      <td>1.00</td>\n",
       "      <td>2.00</td>\n",
       "      <td>0.00</td>\n",
       "      <td>0.0</td>\n",
       "    </tr>\n",
       "    <tr>\n",
       "      <th>50%</th>\n",
       "      <td>7.00</td>\n",
       "      <td>1.00</td>\n",
       "      <td>2.00</td>\n",
       "      <td>1.00</td>\n",
       "      <td>1.00</td>\n",
       "      <td>3.00</td>\n",
       "      <td>1.00</td>\n",
       "      <td>0.0</td>\n",
       "    </tr>\n",
       "    <tr>\n",
       "      <th>75%</th>\n",
       "      <td>9.00</td>\n",
       "      <td>1.00</td>\n",
       "      <td>3.00</td>\n",
       "      <td>2.00</td>\n",
       "      <td>1.00</td>\n",
       "      <td>4.00</td>\n",
       "      <td>2.00</td>\n",
       "      <td>0.0</td>\n",
       "    </tr>\n",
       "    <tr>\n",
       "      <th>max</th>\n",
       "      <td>11.00</td>\n",
       "      <td>1.00</td>\n",
       "      <td>9.00</td>\n",
       "      <td>7.00</td>\n",
       "      <td>1.00</td>\n",
       "      <td>14.00</td>\n",
       "      <td>9.00</td>\n",
       "      <td>0.0</td>\n",
       "    </tr>\n",
       "  </tbody>\n",
       "</table>\n",
       "</div>"
      ],
      "text/plain": [
       "       Time_spent_Alone  Stage_fear  Social_event_attendance  Going_outside  \\\n",
       "count           1409.00     1409.00                  1409.00        1409.00   \n",
       "mean               7.03        0.92                     1.83           1.31   \n",
       "std                2.61        0.27                     1.73           1.39   \n",
       "min                0.00        0.00                     0.00           0.00   \n",
       "25%                5.00        1.00                     1.00           0.00   \n",
       "50%                7.00        1.00                     2.00           1.00   \n",
       "75%                9.00        1.00                     3.00           2.00   \n",
       "max               11.00        1.00                     9.00           7.00   \n",
       "\n",
       "       Drained_after_socializing  Friends_circle_size  Post_frequency  \\\n",
       "count                    1409.00              1409.00         1409.00   \n",
       "mean                        0.92                 3.28            1.42   \n",
       "std                         0.27                 2.57            1.58   \n",
       "min                         0.00                 0.00            0.00   \n",
       "25%                         1.00                 2.00            0.00   \n",
       "50%                         1.00                 3.00            1.00   \n",
       "75%                         1.00                 4.00            2.00   \n",
       "max                         1.00                14.00            9.00   \n",
       "\n",
       "       Personality  \n",
       "count       1409.0  \n",
       "mean           0.0  \n",
       "std            0.0  \n",
       "min            0.0  \n",
       "25%            0.0  \n",
       "50%            0.0  \n",
       "75%            0.0  \n",
       "max            0.0  "
      ]
     },
     "execution_count": 13,
     "metadata": {},
     "output_type": "execute_result"
    }
   ],
   "source": [
    "introverts_statistics = df_v2['Personality'] == 0\n",
    "df_v2[introverts_statistics].describe().round(2)"
   ]
  },
  {
   "cell_type": "code",
   "execution_count": 14,
   "id": "f8be850c",
   "metadata": {
    "execution": {
     "iopub.execute_input": "2025-07-03T13:01:31.301447Z",
     "iopub.status.busy": "2025-07-03T13:01:31.300370Z",
     "iopub.status.idle": "2025-07-03T13:01:31.343536Z",
     "shell.execute_reply": "2025-07-03T13:01:31.342602Z"
    },
    "papermill": {
     "duration": 0.055723,
     "end_time": "2025-07-03T13:01:31.345208",
     "exception": false,
     "start_time": "2025-07-03T13:01:31.289485",
     "status": "completed"
    },
    "tags": []
   },
   "outputs": [
    {
     "data": {
      "text/html": [
       "<div>\n",
       "<style scoped>\n",
       "    .dataframe tbody tr th:only-of-type {\n",
       "        vertical-align: middle;\n",
       "    }\n",
       "\n",
       "    .dataframe tbody tr th {\n",
       "        vertical-align: top;\n",
       "    }\n",
       "\n",
       "    .dataframe thead th {\n",
       "        text-align: right;\n",
       "    }\n",
       "</style>\n",
       "<table border=\"1\" class=\"dataframe\">\n",
       "  <thead>\n",
       "    <tr style=\"text-align: right;\">\n",
       "      <th></th>\n",
       "      <th>Time_spent_Alone</th>\n",
       "      <th>Stage_fear</th>\n",
       "      <th>Social_event_attendance</th>\n",
       "      <th>Going_outside</th>\n",
       "      <th>Drained_after_socializing</th>\n",
       "      <th>Friends_circle_size</th>\n",
       "      <th>Post_frequency</th>\n",
       "      <th>Personality</th>\n",
       "    </tr>\n",
       "  </thead>\n",
       "  <tbody>\n",
       "    <tr>\n",
       "      <th>count</th>\n",
       "      <td>1491.00</td>\n",
       "      <td>1491.00</td>\n",
       "      <td>1491.00</td>\n",
       "      <td>1491.00</td>\n",
       "      <td>1491.00</td>\n",
       "      <td>1491.00</td>\n",
       "      <td>1491.00</td>\n",
       "      <td>1491.0</td>\n",
       "    </tr>\n",
       "    <tr>\n",
       "      <th>mean</th>\n",
       "      <td>2.12</td>\n",
       "      <td>0.07</td>\n",
       "      <td>5.98</td>\n",
       "      <td>4.60</td>\n",
       "      <td>0.07</td>\n",
       "      <td>9.10</td>\n",
       "      <td>5.59</td>\n",
       "      <td>1.0</td>\n",
       "    </tr>\n",
       "    <tr>\n",
       "      <th>std</th>\n",
       "      <td>2.21</td>\n",
       "      <td>0.26</td>\n",
       "      <td>2.21</td>\n",
       "      <td>1.59</td>\n",
       "      <td>0.26</td>\n",
       "      <td>3.49</td>\n",
       "      <td>2.34</td>\n",
       "      <td>0.0</td>\n",
       "    </tr>\n",
       "    <tr>\n",
       "      <th>min</th>\n",
       "      <td>0.00</td>\n",
       "      <td>0.00</td>\n",
       "      <td>0.00</td>\n",
       "      <td>0.00</td>\n",
       "      <td>0.00</td>\n",
       "      <td>0.00</td>\n",
       "      <td>0.00</td>\n",
       "      <td>1.0</td>\n",
       "    </tr>\n",
       "    <tr>\n",
       "      <th>25%</th>\n",
       "      <td>1.00</td>\n",
       "      <td>0.00</td>\n",
       "      <td>4.00</td>\n",
       "      <td>4.00</td>\n",
       "      <td>0.00</td>\n",
       "      <td>6.27</td>\n",
       "      <td>4.00</td>\n",
       "      <td>1.0</td>\n",
       "    </tr>\n",
       "    <tr>\n",
       "      <th>50%</th>\n",
       "      <td>2.00</td>\n",
       "      <td>0.00</td>\n",
       "      <td>6.00</td>\n",
       "      <td>5.00</td>\n",
       "      <td>0.00</td>\n",
       "      <td>9.00</td>\n",
       "      <td>6.00</td>\n",
       "      <td>1.0</td>\n",
       "    </tr>\n",
       "    <tr>\n",
       "      <th>75%</th>\n",
       "      <td>3.00</td>\n",
       "      <td>0.00</td>\n",
       "      <td>8.00</td>\n",
       "      <td>6.00</td>\n",
       "      <td>0.00</td>\n",
       "      <td>12.00</td>\n",
       "      <td>7.00</td>\n",
       "      <td>1.0</td>\n",
       "    </tr>\n",
       "    <tr>\n",
       "      <th>max</th>\n",
       "      <td>11.00</td>\n",
       "      <td>1.00</td>\n",
       "      <td>10.00</td>\n",
       "      <td>7.00</td>\n",
       "      <td>1.00</td>\n",
       "      <td>15.00</td>\n",
       "      <td>10.00</td>\n",
       "      <td>1.0</td>\n",
       "    </tr>\n",
       "  </tbody>\n",
       "</table>\n",
       "</div>"
      ],
      "text/plain": [
       "       Time_spent_Alone  Stage_fear  Social_event_attendance  Going_outside  \\\n",
       "count           1491.00     1491.00                  1491.00        1491.00   \n",
       "mean               2.12        0.07                     5.98           4.60   \n",
       "std                2.21        0.26                     2.21           1.59   \n",
       "min                0.00        0.00                     0.00           0.00   \n",
       "25%                1.00        0.00                     4.00           4.00   \n",
       "50%                2.00        0.00                     6.00           5.00   \n",
       "75%                3.00        0.00                     8.00           6.00   \n",
       "max               11.00        1.00                    10.00           7.00   \n",
       "\n",
       "       Drained_after_socializing  Friends_circle_size  Post_frequency  \\\n",
       "count                    1491.00              1491.00         1491.00   \n",
       "mean                        0.07                 9.10            5.59   \n",
       "std                         0.26                 3.49            2.34   \n",
       "min                         0.00                 0.00            0.00   \n",
       "25%                         0.00                 6.27            4.00   \n",
       "50%                         0.00                 9.00            6.00   \n",
       "75%                         0.00                12.00            7.00   \n",
       "max                         1.00                15.00           10.00   \n",
       "\n",
       "       Personality  \n",
       "count       1491.0  \n",
       "mean           1.0  \n",
       "std            0.0  \n",
       "min            1.0  \n",
       "25%            1.0  \n",
       "50%            1.0  \n",
       "75%            1.0  \n",
       "max            1.0  "
      ]
     },
     "execution_count": 14,
     "metadata": {},
     "output_type": "execute_result"
    }
   ],
   "source": [
    "extroverts_statistics = df_v2['Personality'] == 1\n",
    "df_v2[extroverts_statistics].describe().round(2)"
   ]
  },
  {
   "cell_type": "markdown",
   "id": "b4a99e62",
   "metadata": {
    "papermill": {
     "duration": 0.007911,
     "end_time": "2025-07-03T13:01:31.361636",
     "exception": false,
     "start_time": "2025-07-03T13:01:31.353725",
     "status": "completed"
    },
    "tags": []
   },
   "source": [
    "## **Insights**\n",
    "--\n",
    "\n",
    "### **Statistics**:\n",
    "* Extrovert people tend to spend much more time on average speaking with other people, posting and going outside while introverts tend to stay alone and don't have big friendship circles. This results in stage fear, less social event attendance and also the out of energy feeling when they need to interact with more people.\n",
    "* The dependent Y (Personality) variable fits too well with the data collected. It means that it's easy to understand the correlation of the X features with the Y, and based on this data, a ML model would perform very well, however would also present overfitting tendencies.\n",
    "\n",
    "# **Thank You for taking the time to view this Notebook**!\n",
    "​\n",
    "If you found this analysis useful and have any feedback or suggestions, don't hesitate to contact me! We are here to learn!"
   ]
  }
 ],
 "metadata": {
  "kaggle": {
   "accelerator": "none",
   "dataSources": [
    {
     "datasetId": 7474089,
     "sourceId": 12156348,
     "sourceType": "datasetVersion"
    }
   ],
   "dockerImageVersionId": 31040,
   "isGpuEnabled": false,
   "isInternetEnabled": true,
   "language": "python",
   "sourceType": "notebook"
  },
  "kernelspec": {
   "display_name": "Python 3",
   "language": "python",
   "name": "python3"
  },
  "language_info": {
   "codemirror_mode": {
    "name": "ipython",
    "version": 3
   },
   "file_extension": ".py",
   "mimetype": "text/x-python",
   "name": "python",
   "nbconvert_exporter": "python",
   "pygments_lexer": "ipython3",
   "version": "3.11.11"
  },
  "papermill": {
   "default_parameters": {},
   "duration": 14.616537,
   "end_time": "2025-07-03T13:01:32.091338",
   "environment_variables": {},
   "exception": null,
   "input_path": "__notebook__.ipynb",
   "output_path": "__notebook__.ipynb",
   "parameters": {},
   "start_time": "2025-07-03T13:01:17.474801",
   "version": "2.6.0"
  }
 },
 "nbformat": 4,
 "nbformat_minor": 5
}
