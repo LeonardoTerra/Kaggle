{
 "cells": [
  {
   "cell_type": "code",
   "execution_count": 1,
   "id": "2259252b",
   "metadata": {
    "_cell_guid": "b1076dfc-b9ad-4769-8c92-a6c4dae69d19",
    "_uuid": "8f2839f25d086af736a60e9eeb907d3b93b6e0e5",
    "execution": {
     "iopub.execute_input": "2025-06-15T17:56:21.934373Z",
     "iopub.status.busy": "2025-06-15T17:56:21.933549Z",
     "iopub.status.idle": "2025-06-15T17:56:38.112326Z",
     "shell.execute_reply": "2025-06-15T17:56:38.111249Z"
    },
    "papermill": {
     "duration": 16.18776,
     "end_time": "2025-06-15T17:56:38.114139",
     "exception": false,
     "start_time": "2025-06-15T17:56:21.926379",
     "status": "completed"
    },
    "tags": []
   },
   "outputs": [
    {
     "name": "stdout",
     "output_type": "stream",
     "text": [
      "/kaggle/input/vertebralcolumndataset/Dataset_spine.csv\n",
      "Requirement already satisfied: scikit-learn in /usr/local/lib/python3.11/dist-packages (1.2.2)\r\n",
      "Collecting scikit-learn\r\n",
      "  Downloading scikit_learn-1.7.0-cp311-cp311-manylinux_2_17_x86_64.manylinux2014_x86_64.whl.metadata (17 kB)\r\n",
      "Requirement already satisfied: numpy>=1.22.0 in /usr/local/lib/python3.11/dist-packages (from scikit-learn) (1.26.4)\r\n",
      "Requirement already satisfied: scipy>=1.8.0 in /usr/local/lib/python3.11/dist-packages (from scikit-learn) (1.15.2)\r\n",
      "Requirement already satisfied: joblib>=1.2.0 in /usr/local/lib/python3.11/dist-packages (from scikit-learn) (1.5.0)\r\n",
      "Requirement already satisfied: threadpoolctl>=3.1.0 in /usr/local/lib/python3.11/dist-packages (from scikit-learn) (3.6.0)\r\n",
      "Requirement already satisfied: mkl_fft in /usr/local/lib/python3.11/dist-packages (from numpy>=1.22.0->scikit-learn) (1.3.8)\r\n",
      "Requirement already satisfied: mkl_random in /usr/local/lib/python3.11/dist-packages (from numpy>=1.22.0->scikit-learn) (1.2.4)\r\n",
      "Requirement already satisfied: mkl_umath in /usr/local/lib/python3.11/dist-packages (from numpy>=1.22.0->scikit-learn) (0.1.1)\r\n",
      "Requirement already satisfied: mkl in /usr/local/lib/python3.11/dist-packages (from numpy>=1.22.0->scikit-learn) (2025.1.0)\r\n",
      "Requirement already satisfied: tbb4py in /usr/local/lib/python3.11/dist-packages (from numpy>=1.22.0->scikit-learn) (2022.1.0)\r\n",
      "Requirement already satisfied: mkl-service in /usr/local/lib/python3.11/dist-packages (from numpy>=1.22.0->scikit-learn) (2.4.1)\r\n",
      "Requirement already satisfied: intel-openmp<2026,>=2024 in /usr/local/lib/python3.11/dist-packages (from mkl->numpy>=1.22.0->scikit-learn) (2024.2.0)\r\n",
      "Requirement already satisfied: tbb==2022.* in /usr/local/lib/python3.11/dist-packages (from mkl->numpy>=1.22.0->scikit-learn) (2022.1.0)\r\n",
      "Requirement already satisfied: tcmlib==1.* in /usr/local/lib/python3.11/dist-packages (from tbb==2022.*->mkl->numpy>=1.22.0->scikit-learn) (1.3.0)\r\n",
      "Requirement already satisfied: intel-cmplr-lib-rt in /usr/local/lib/python3.11/dist-packages (from mkl_umath->numpy>=1.22.0->scikit-learn) (2024.2.0)\r\n",
      "Requirement already satisfied: intel-cmplr-lib-ur==2024.2.0 in /usr/local/lib/python3.11/dist-packages (from intel-openmp<2026,>=2024->mkl->numpy>=1.22.0->scikit-learn) (2024.2.0)\r\n",
      "Downloading scikit_learn-1.7.0-cp311-cp311-manylinux_2_17_x86_64.manylinux2014_x86_64.whl (12.9 MB)\r\n",
      "\u001b[2K   \u001b[90m━━━━━━━━━━━━━━━━━━━━━━━━━━━━━━━━━━━━━━━━\u001b[0m \u001b[32m12.9/12.9 MB\u001b[0m \u001b[31m96.3 MB/s\u001b[0m eta \u001b[36m0:00:00\u001b[0m\r\n",
      "\u001b[?25hInstalling collected packages: scikit-learn\r\n",
      "  Attempting uninstall: scikit-learn\r\n",
      "    Found existing installation: scikit-learn 1.2.2\r\n",
      "    Uninstalling scikit-learn-1.2.2:\r\n",
      "      Successfully uninstalled scikit-learn-1.2.2\r\n",
      "\u001b[31mERROR: pip's dependency resolver does not currently take into account all the packages that are installed. This behaviour is the source of the following dependency conflicts.\r\n",
      "category-encoders 2.7.0 requires scikit-learn<1.6.0,>=1.0.0, but you have scikit-learn 1.7.0 which is incompatible.\r\n",
      "cesium 0.12.4 requires numpy<3.0,>=2.0, but you have numpy 1.26.4 which is incompatible.\r\n",
      "sklearn-compat 0.1.3 requires scikit-learn<1.7,>=1.2, but you have scikit-learn 1.7.0 which is incompatible.\u001b[0m\u001b[31m\r\n",
      "\u001b[0mSuccessfully installed scikit-learn-1.7.0\r\n",
      "Requirement already satisfied: scikit-learn in /usr/local/lib/python3.11/dist-packages (1.7.0)\r\n",
      "Requirement already satisfied: imbalanced-learn in /usr/local/lib/python3.11/dist-packages (0.13.0)\r\n",
      "Requirement already satisfied: numpy>=1.22.0 in /usr/local/lib/python3.11/dist-packages (from scikit-learn) (1.26.4)\r\n",
      "Requirement already satisfied: scipy>=1.8.0 in /usr/local/lib/python3.11/dist-packages (from scikit-learn) (1.15.2)\r\n",
      "Requirement already satisfied: joblib>=1.2.0 in /usr/local/lib/python3.11/dist-packages (from scikit-learn) (1.5.0)\r\n",
      "Requirement already satisfied: threadpoolctl>=3.1.0 in /usr/local/lib/python3.11/dist-packages (from scikit-learn) (3.6.0)\r\n",
      "Requirement already satisfied: sklearn-compat<1,>=0.1 in /usr/local/lib/python3.11/dist-packages (from imbalanced-learn) (0.1.3)\r\n",
      "Requirement already satisfied: mkl_fft in /usr/local/lib/python3.11/dist-packages (from numpy>=1.22.0->scikit-learn) (1.3.8)\r\n",
      "Requirement already satisfied: mkl_random in /usr/local/lib/python3.11/dist-packages (from numpy>=1.22.0->scikit-learn) (1.2.4)\r\n",
      "Requirement already satisfied: mkl_umath in /usr/local/lib/python3.11/dist-packages (from numpy>=1.22.0->scikit-learn) (0.1.1)\r\n",
      "Requirement already satisfied: mkl in /usr/local/lib/python3.11/dist-packages (from numpy>=1.22.0->scikit-learn) (2025.1.0)\r\n",
      "Requirement already satisfied: tbb4py in /usr/local/lib/python3.11/dist-packages (from numpy>=1.22.0->scikit-learn) (2022.1.0)\r\n",
      "Requirement already satisfied: mkl-service in /usr/local/lib/python3.11/dist-packages (from numpy>=1.22.0->scikit-learn) (2.4.1)\r\n",
      "Collecting scikit-learn\r\n",
      "  Downloading scikit_learn-1.6.1-cp311-cp311-manylinux_2_17_x86_64.manylinux2014_x86_64.whl.metadata (18 kB)\r\n",
      "Requirement already satisfied: intel-openmp<2026,>=2024 in /usr/local/lib/python3.11/dist-packages (from mkl->numpy>=1.22.0->scikit-learn) (2024.2.0)\r\n",
      "Requirement already satisfied: tbb==2022.* in /usr/local/lib/python3.11/dist-packages (from mkl->numpy>=1.22.0->scikit-learn) (2022.1.0)\r\n",
      "Requirement already satisfied: tcmlib==1.* in /usr/local/lib/python3.11/dist-packages (from tbb==2022.*->mkl->numpy>=1.22.0->scikit-learn) (1.3.0)\r\n",
      "Requirement already satisfied: intel-cmplr-lib-rt in /usr/local/lib/python3.11/dist-packages (from mkl_umath->numpy>=1.22.0->scikit-learn) (2024.2.0)\r\n",
      "Requirement already satisfied: intel-cmplr-lib-ur==2024.2.0 in /usr/local/lib/python3.11/dist-packages (from intel-openmp<2026,>=2024->mkl->numpy>=1.22.0->scikit-learn) (2024.2.0)\r\n",
      "Downloading scikit_learn-1.6.1-cp311-cp311-manylinux_2_17_x86_64.manylinux2014_x86_64.whl (13.5 MB)\r\n",
      "\u001b[2K   \u001b[90m━━━━━━━━━━━━━━━━━━━━━━━━━━━━━━━━━━━━━━━━\u001b[0m \u001b[32m13.5/13.5 MB\u001b[0m \u001b[31m87.8 MB/s\u001b[0m eta \u001b[36m0:00:00\u001b[0m\r\n",
      "\u001b[?25hInstalling collected packages: scikit-learn\r\n",
      "  Attempting uninstall: scikit-learn\r\n",
      "    Found existing installation: scikit-learn 1.7.0\r\n",
      "    Uninstalling scikit-learn-1.7.0:\r\n",
      "      Successfully uninstalled scikit-learn-1.7.0\r\n",
      "\u001b[31mERROR: pip's dependency resolver does not currently take into account all the packages that are installed. This behaviour is the source of the following dependency conflicts.\r\n",
      "category-encoders 2.7.0 requires scikit-learn<1.6.0,>=1.0.0, but you have scikit-learn 1.6.1 which is incompatible.\r\n",
      "cesium 0.12.4 requires numpy<3.0,>=2.0, but you have numpy 1.26.4 which is incompatible.\u001b[0m\u001b[31m\r\n",
      "\u001b[0mSuccessfully installed scikit-learn-1.6.1\r\n"
     ]
    }
   ],
   "source": [
    "# This Python 3 environment comes with many helpful analytics libraries installed\n",
    "# It is defined by the kaggle/python Docker image: https://github.com/kaggle/docker-python\n",
    "# For example, here's several helpful packages to load\n",
    "\n",
    "import numpy as np # linear algebra\n",
    "import pandas as pd # data processing, CSV file I/O (e.g. pd.read_csv)\n",
    "\n",
    "# Input data files are available in the read-only \"../input/\" directory\n",
    "# For example, running this (by clicking run or pressing Shift+Enter) will list all files under the input directory\n",
    "\n",
    "import os\n",
    "for dirname, _, filenames in os.walk('/kaggle/input'):\n",
    "    for filename in filenames:\n",
    "        print(os.path.join(dirname, filename))\n",
    "\n",
    "import warnings \n",
    "warnings.filterwarnings('ignore')\n",
    "\n",
    "!pip install --upgrade scikit-learn\n",
    "!pip install --upgrade scikit-learn imbalanced-learn\n",
    "\n",
    "\n",
    "# You can write up to 20GB to the current directory (/kaggle/working/) that gets preserved as output when you create a version using \"Save & Run All\" \n",
    "# You can also write temporary files to /kaggle/temp/, but they won't be saved outside of the current session"
   ]
  },
  {
   "cell_type": "code",
   "execution_count": 2,
   "id": "0d1eeff1",
   "metadata": {
    "execution": {
     "iopub.execute_input": "2025-06-15T17:56:38.128755Z",
     "iopub.status.busy": "2025-06-15T17:56:38.127797Z",
     "iopub.status.idle": "2025-06-15T17:56:40.388128Z",
     "shell.execute_reply": "2025-06-15T17:56:40.387240Z"
    },
    "papermill": {
     "duration": 2.268884,
     "end_time": "2025-06-15T17:56:40.389879",
     "exception": false,
     "start_time": "2025-06-15T17:56:38.120995",
     "status": "completed"
    },
    "tags": []
   },
   "outputs": [],
   "source": [
    "import pandas as pd\n",
    "import seaborn as sns\n",
    "import matplotlib.pyplot as plt\n",
    "from matplotlib.ticker import FuncFormatter\n",
    "\n",
    "from sklearn.model_selection import train_test_split\n",
    "from sklearn.metrics import accuracy_score, confusion_matrix, classification_report\n",
    "from imblearn.over_sampling import SMOTE\n",
    "from sklearn.preprocessing import MaxAbsScaler\n",
    "from sklearn.dummy import DummyClassifier\n",
    "from sklearn.linear_model import LogisticRegression\n",
    "from sklearn.tree import DecisionTreeClassifier\n",
    "from sklearn.neighbors import KNeighborsClassifier\n",
    "from sklearn.model_selection import cross_val_score\n",
    "from sklearn.model_selection import GridSearchCV"
   ]
  },
  {
   "cell_type": "markdown",
   "id": "41095d9b",
   "metadata": {
    "papermill": {
     "duration": 0.005674,
     "end_time": "2025-06-15T17:56:40.402165",
     "exception": false,
     "start_time": "2025-06-15T17:56:40.396491",
     "status": "completed"
    },
    "tags": []
   },
   "source": [
    "# **EDA**"
   ]
  },
  {
   "cell_type": "markdown",
   "id": "4bdae1b3",
   "metadata": {
    "papermill": {
     "duration": 0.005554,
     "end_time": "2025-06-15T17:56:40.413339",
     "exception": false,
     "start_time": "2025-06-15T17:56:40.407785",
     "status": "completed"
    },
    "tags": []
   },
   "source": [
    "## **Data Exploration**\n",
    "    During this step, one can explore the shape of the data being worked with. It is common to check and handle the number of columns and rows, missing values, outliers, and other inconsistencies that might appear.\n",
    "--"
   ]
  },
  {
   "cell_type": "code",
   "execution_count": 3,
   "id": "04b044e1",
   "metadata": {
    "execution": {
     "iopub.execute_input": "2025-06-15T17:56:40.426046Z",
     "iopub.status.busy": "2025-06-15T17:56:40.425602Z",
     "iopub.status.idle": "2025-06-15T17:56:40.462046Z",
     "shell.execute_reply": "2025-06-15T17:56:40.461384Z"
    },
    "papermill": {
     "duration": 0.044195,
     "end_time": "2025-06-15T17:56:40.463125",
     "exception": false,
     "start_time": "2025-06-15T17:56:40.418930",
     "status": "completed"
    },
    "tags": []
   },
   "outputs": [
    {
     "data": {
      "text/html": [
       "<div>\n",
       "<style scoped>\n",
       "    .dataframe tbody tr th:only-of-type {\n",
       "        vertical-align: middle;\n",
       "    }\n",
       "\n",
       "    .dataframe tbody tr th {\n",
       "        vertical-align: top;\n",
       "    }\n",
       "\n",
       "    .dataframe thead th {\n",
       "        text-align: right;\n",
       "    }\n",
       "</style>\n",
       "<table border=\"1\" class=\"dataframe\">\n",
       "  <thead>\n",
       "    <tr style=\"text-align: right;\">\n",
       "      <th></th>\n",
       "      <th>pelvic incidence</th>\n",
       "      <th>pelvic tilt</th>\n",
       "      <th>lumbar lordosis angle</th>\n",
       "      <th>sacral slope</th>\n",
       "      <th>pelvic radius</th>\n",
       "      <th>grade of spondylolisthesis</th>\n",
       "      <th>Class_att</th>\n",
       "    </tr>\n",
       "  </thead>\n",
       "  <tbody>\n",
       "    <tr>\n",
       "      <th>0</th>\n",
       "      <td>63.027817</td>\n",
       "      <td>22.552586</td>\n",
       "      <td>39.609117</td>\n",
       "      <td>40.475232</td>\n",
       "      <td>98.672917</td>\n",
       "      <td>-0.254400</td>\n",
       "      <td>Abnormal</td>\n",
       "    </tr>\n",
       "    <tr>\n",
       "      <th>1</th>\n",
       "      <td>39.056951</td>\n",
       "      <td>10.060991</td>\n",
       "      <td>25.015378</td>\n",
       "      <td>28.995960</td>\n",
       "      <td>114.405425</td>\n",
       "      <td>4.564259</td>\n",
       "      <td>Abnormal</td>\n",
       "    </tr>\n",
       "    <tr>\n",
       "      <th>2</th>\n",
       "      <td>68.832021</td>\n",
       "      <td>22.218482</td>\n",
       "      <td>50.092194</td>\n",
       "      <td>46.613539</td>\n",
       "      <td>105.985135</td>\n",
       "      <td>-3.530317</td>\n",
       "      <td>Abnormal</td>\n",
       "    </tr>\n",
       "    <tr>\n",
       "      <th>3</th>\n",
       "      <td>69.297008</td>\n",
       "      <td>24.652878</td>\n",
       "      <td>44.311238</td>\n",
       "      <td>44.644130</td>\n",
       "      <td>101.868495</td>\n",
       "      <td>11.211523</td>\n",
       "      <td>Abnormal</td>\n",
       "    </tr>\n",
       "    <tr>\n",
       "      <th>4</th>\n",
       "      <td>49.712859</td>\n",
       "      <td>9.652075</td>\n",
       "      <td>28.317406</td>\n",
       "      <td>40.060784</td>\n",
       "      <td>108.168725</td>\n",
       "      <td>7.918501</td>\n",
       "      <td>Abnormal</td>\n",
       "    </tr>\n",
       "  </tbody>\n",
       "</table>\n",
       "</div>"
      ],
      "text/plain": [
       "   pelvic incidence   pelvic tilt   lumbar lordosis angle   sacral slope  \\\n",
       "0         63.027817     22.552586               39.609117      40.475232   \n",
       "1         39.056951     10.060991               25.015378      28.995960   \n",
       "2         68.832021     22.218482               50.092194      46.613539   \n",
       "3         69.297008     24.652878               44.311238      44.644130   \n",
       "4         49.712859      9.652075               28.317406      40.060784   \n",
       "\n",
       "    pelvic radius   grade of spondylolisthesis Class_att  \n",
       "0       98.672917                    -0.254400  Abnormal  \n",
       "1      114.405425                     4.564259  Abnormal  \n",
       "2      105.985135                    -3.530317  Abnormal  \n",
       "3      101.868495                    11.211523  Abnormal  \n",
       "4      108.168725                     7.918501  Abnormal  "
      ]
     },
     "execution_count": 3,
     "metadata": {},
     "output_type": "execute_result"
    }
   ],
   "source": [
    "df = pd.read_csv(\"/kaggle/input/vertebralcolumndataset/Dataset_spine.csv\")\n",
    "df.head()"
   ]
  },
  {
   "cell_type": "code",
   "execution_count": 4,
   "id": "55290238",
   "metadata": {
    "execution": {
     "iopub.execute_input": "2025-06-15T17:56:40.475618Z",
     "iopub.status.busy": "2025-06-15T17:56:40.475354Z",
     "iopub.status.idle": "2025-06-15T17:56:40.481276Z",
     "shell.execute_reply": "2025-06-15T17:56:40.480502Z"
    },
    "papermill": {
     "duration": 0.013441,
     "end_time": "2025-06-15T17:56:40.482449",
     "exception": false,
     "start_time": "2025-06-15T17:56:40.469008",
     "status": "completed"
    },
    "tags": []
   },
   "outputs": [
    {
     "data": {
      "text/plain": [
       "pelvic incidence               float64\n",
       " pelvic tilt                   float64\n",
       " lumbar lordosis angle         float64\n",
       " sacral slope                  float64\n",
       " pelvic radius                 float64\n",
       " grade of spondylolisthesis    float64\n",
       "Class_att                       object\n",
       "dtype: object"
      ]
     },
     "execution_count": 4,
     "metadata": {},
     "output_type": "execute_result"
    }
   ],
   "source": [
    "df.dtypes # Checking the data type of each column"
   ]
  },
  {
   "cell_type": "code",
   "execution_count": 5,
   "id": "cfa247aa",
   "metadata": {
    "execution": {
     "iopub.execute_input": "2025-06-15T17:56:40.495146Z",
     "iopub.status.busy": "2025-06-15T17:56:40.494893Z",
     "iopub.status.idle": "2025-06-15T17:56:40.498936Z",
     "shell.execute_reply": "2025-06-15T17:56:40.498219Z"
    },
    "papermill": {
     "duration": 0.011838,
     "end_time": "2025-06-15T17:56:40.500116",
     "exception": false,
     "start_time": "2025-06-15T17:56:40.488278",
     "status": "completed"
    },
    "tags": []
   },
   "outputs": [],
   "source": [
    "df_columns = df.columns\n",
    "df_columns = [x.lstrip().replace(\" \",\"_\") for x in df_columns] # stripping the column titles to improved usefulness\n",
    "df.columns = df_columns"
   ]
  },
  {
   "cell_type": "code",
   "execution_count": 6,
   "id": "3fd8fceb",
   "metadata": {
    "execution": {
     "iopub.execute_input": "2025-06-15T17:56:40.513239Z",
     "iopub.status.busy": "2025-06-15T17:56:40.512522Z",
     "iopub.status.idle": "2025-06-15T17:56:40.518832Z",
     "shell.execute_reply": "2025-06-15T17:56:40.518235Z"
    },
    "papermill": {
     "duration": 0.013975,
     "end_time": "2025-06-15T17:56:40.519990",
     "exception": false,
     "start_time": "2025-06-15T17:56:40.506015",
     "status": "completed"
    },
    "tags": []
   },
   "outputs": [
    {
     "data": {
      "text/plain": [
       "pelvic_incidence              0.0\n",
       "pelvic_tilt                   0.0\n",
       "lumbar_lordosis_angle         0.0\n",
       "sacral_slope                  0.0\n",
       "pelvic_radius                 0.0\n",
       "grade_of_spondylolisthesis    0.0\n",
       "Class_att                     0.0\n",
       "dtype: float64"
      ]
     },
     "execution_count": 6,
     "metadata": {},
     "output_type": "execute_result"
    }
   ],
   "source": [
    "df.isna().mean() # Evaluating the % of missing values in every column"
   ]
  },
  {
   "cell_type": "code",
   "execution_count": 7,
   "id": "d593c358",
   "metadata": {
    "execution": {
     "iopub.execute_input": "2025-06-15T17:56:40.533991Z",
     "iopub.status.busy": "2025-06-15T17:56:40.533594Z",
     "iopub.status.idle": "2025-06-15T17:56:40.542877Z",
     "shell.execute_reply": "2025-06-15T17:56:40.542286Z"
    },
    "papermill": {
     "duration": 0.017058,
     "end_time": "2025-06-15T17:56:40.543977",
     "exception": false,
     "start_time": "2025-06-15T17:56:40.526919",
     "status": "completed"
    },
    "tags": []
   },
   "outputs": [],
   "source": [
    "# Turning the Class_att column into Boolean\n",
    "\n",
    "df['abnormality'] = df['Class_att'].map({\n",
    "    'Abnormal': 1,\n",
    "    'Normal': 0\n",
    "})"
   ]
  },
  {
   "cell_type": "markdown",
   "id": "defe4925",
   "metadata": {
    "papermill": {
     "duration": 0.00566,
     "end_time": "2025-06-15T17:56:40.555478",
     "exception": false,
     "start_time": "2025-06-15T17:56:40.549818",
     "status": "completed"
    },
    "tags": []
   },
   "source": [
    "## **Statistical Analysis**\n",
    "    This step aims to understand the interaction and correlation among the features. Here, it is possible to check for multicollinearity, plot visualizations, and highlight key points.\n",
    "--"
   ]
  },
  {
   "cell_type": "code",
   "execution_count": 8,
   "id": "21906574",
   "metadata": {
    "execution": {
     "iopub.execute_input": "2025-06-15T17:56:40.568153Z",
     "iopub.status.busy": "2025-06-15T17:56:40.567561Z",
     "iopub.status.idle": "2025-06-15T17:56:40.592700Z",
     "shell.execute_reply": "2025-06-15T17:56:40.592057Z"
    },
    "papermill": {
     "duration": 0.032665,
     "end_time": "2025-06-15T17:56:40.593893",
     "exception": false,
     "start_time": "2025-06-15T17:56:40.561228",
     "status": "completed"
    },
    "tags": []
   },
   "outputs": [
    {
     "data": {
      "text/html": [
       "<div>\n",
       "<style scoped>\n",
       "    .dataframe tbody tr th:only-of-type {\n",
       "        vertical-align: middle;\n",
       "    }\n",
       "\n",
       "    .dataframe tbody tr th {\n",
       "        vertical-align: top;\n",
       "    }\n",
       "\n",
       "    .dataframe thead th {\n",
       "        text-align: right;\n",
       "    }\n",
       "</style>\n",
       "<table border=\"1\" class=\"dataframe\">\n",
       "  <thead>\n",
       "    <tr style=\"text-align: right;\">\n",
       "      <th></th>\n",
       "      <th>pelvic_incidence</th>\n",
       "      <th>pelvic_tilt</th>\n",
       "      <th>lumbar_lordosis_angle</th>\n",
       "      <th>sacral_slope</th>\n",
       "      <th>pelvic_radius</th>\n",
       "      <th>grade_of_spondylolisthesis</th>\n",
       "      <th>abnormality</th>\n",
       "    </tr>\n",
       "  </thead>\n",
       "  <tbody>\n",
       "    <tr>\n",
       "      <th>count</th>\n",
       "      <td>310.00</td>\n",
       "      <td>310.00</td>\n",
       "      <td>310.00</td>\n",
       "      <td>310.00</td>\n",
       "      <td>310.00</td>\n",
       "      <td>310.00</td>\n",
       "      <td>310.00</td>\n",
       "    </tr>\n",
       "    <tr>\n",
       "      <th>mean</th>\n",
       "      <td>60.50</td>\n",
       "      <td>17.54</td>\n",
       "      <td>51.93</td>\n",
       "      <td>42.95</td>\n",
       "      <td>117.92</td>\n",
       "      <td>26.30</td>\n",
       "      <td>0.68</td>\n",
       "    </tr>\n",
       "    <tr>\n",
       "      <th>std</th>\n",
       "      <td>17.24</td>\n",
       "      <td>10.01</td>\n",
       "      <td>18.55</td>\n",
       "      <td>13.42</td>\n",
       "      <td>13.32</td>\n",
       "      <td>37.56</td>\n",
       "      <td>0.47</td>\n",
       "    </tr>\n",
       "    <tr>\n",
       "      <th>min</th>\n",
       "      <td>26.15</td>\n",
       "      <td>-6.55</td>\n",
       "      <td>14.00</td>\n",
       "      <td>13.37</td>\n",
       "      <td>70.08</td>\n",
       "      <td>-11.06</td>\n",
       "      <td>0.00</td>\n",
       "    </tr>\n",
       "    <tr>\n",
       "      <th>25%</th>\n",
       "      <td>46.43</td>\n",
       "      <td>10.67</td>\n",
       "      <td>37.00</td>\n",
       "      <td>33.35</td>\n",
       "      <td>110.71</td>\n",
       "      <td>1.60</td>\n",
       "      <td>0.00</td>\n",
       "    </tr>\n",
       "    <tr>\n",
       "      <th>50%</th>\n",
       "      <td>58.69</td>\n",
       "      <td>16.36</td>\n",
       "      <td>49.56</td>\n",
       "      <td>42.40</td>\n",
       "      <td>118.27</td>\n",
       "      <td>11.77</td>\n",
       "      <td>1.00</td>\n",
       "    </tr>\n",
       "    <tr>\n",
       "      <th>75%</th>\n",
       "      <td>72.88</td>\n",
       "      <td>22.12</td>\n",
       "      <td>63.00</td>\n",
       "      <td>52.70</td>\n",
       "      <td>125.47</td>\n",
       "      <td>41.29</td>\n",
       "      <td>1.00</td>\n",
       "    </tr>\n",
       "    <tr>\n",
       "      <th>max</th>\n",
       "      <td>129.83</td>\n",
       "      <td>49.43</td>\n",
       "      <td>125.74</td>\n",
       "      <td>121.43</td>\n",
       "      <td>163.07</td>\n",
       "      <td>418.54</td>\n",
       "      <td>1.00</td>\n",
       "    </tr>\n",
       "  </tbody>\n",
       "</table>\n",
       "</div>"
      ],
      "text/plain": [
       "       pelvic_incidence  pelvic_tilt  lumbar_lordosis_angle  sacral_slope  \\\n",
       "count            310.00       310.00                 310.00        310.00   \n",
       "mean              60.50        17.54                  51.93         42.95   \n",
       "std               17.24        10.01                  18.55         13.42   \n",
       "min               26.15        -6.55                  14.00         13.37   \n",
       "25%               46.43        10.67                  37.00         33.35   \n",
       "50%               58.69        16.36                  49.56         42.40   \n",
       "75%               72.88        22.12                  63.00         52.70   \n",
       "max              129.83        49.43                 125.74        121.43   \n",
       "\n",
       "       pelvic_radius  grade_of_spondylolisthesis  abnormality  \n",
       "count         310.00                      310.00       310.00  \n",
       "mean          117.92                       26.30         0.68  \n",
       "std            13.32                       37.56         0.47  \n",
       "min            70.08                      -11.06         0.00  \n",
       "25%           110.71                        1.60         0.00  \n",
       "50%           118.27                       11.77         1.00  \n",
       "75%           125.47                       41.29         1.00  \n",
       "max           163.07                      418.54         1.00  "
      ]
     },
     "execution_count": 8,
     "metadata": {},
     "output_type": "execute_result"
    }
   ],
   "source": [
    "df.describe().round(2) # Getting the statistics of the dataset"
   ]
  },
  {
   "cell_type": "code",
   "execution_count": 9,
   "id": "bd072fc4",
   "metadata": {
    "execution": {
     "iopub.execute_input": "2025-06-15T17:56:40.607770Z",
     "iopub.status.busy": "2025-06-15T17:56:40.607363Z",
     "iopub.status.idle": "2025-06-15T17:56:41.823778Z",
     "shell.execute_reply": "2025-06-15T17:56:41.823017Z"
    },
    "papermill": {
     "duration": 1.225368,
     "end_time": "2025-06-15T17:56:41.825910",
     "exception": false,
     "start_time": "2025-06-15T17:56:40.600542",
     "status": "completed"
    },
    "tags": []
   },
   "outputs": [
    {
     "data": {
      "image/png": "[encoded data removed]",
      "text/plain": [
       "<Figure size 2000x400 with 6 Axes>"
      ]
     },
     "metadata": {},
     "output_type": "display_data"
    }
   ],
   "source": [
    "#Plotting the distribution of each feature\n",
    "\n",
    "fig, ax = plt.subplots(nrows=2, ncols=3, figsize=(20, 4))\n",
    "\n",
    "ax[0,0] = sns.histplot(data=df, x= 'pelvic_incidence', color='#DDDDDD', kde=True, ax=ax[0,0], bins=15)\n",
    "ax[0,1] = sns.histplot(data=df, x= 'pelvic_tilt', color='#DDDDDD', kde=True, ax=ax[0,1], bins=15)\n",
    "ax[0,2] = sns.histplot(data=df, x= 'lumbar_lordosis_angle', color='#DDDDDD', kde=True, ax=ax[0,2], bins=15)\n",
    "ax[1,0] = sns.histplot(data=df, x= 'sacral_slope', color='#DDDDDD', kde=True, ax=ax[1,0], bins=15)\n",
    "ax[1,1] = sns.histplot(data=df, x= 'pelvic_radius', color='#DDDDDD', kde=True, ax=ax[1,1], bins=15)\n",
    "ax[1,2] = sns.histplot(data=df, x= 'grade_of_spondylolisthesis', color='#DDDDDD', kde=True, ax=ax[1,2], bins=15)\n",
    "\n",
    "\n",
    "sns.despine(left=False, right=True, top=True, bottom=False)\n",
    "plt.tight_layout()"
   ]
  },
  {
   "cell_type": "code",
   "execution_count": 10,
   "id": "82230c62",
   "metadata": {
    "execution": {
     "iopub.execute_input": "2025-06-15T17:56:41.843681Z",
     "iopub.status.busy": "2025-06-15T17:56:41.843347Z",
     "iopub.status.idle": "2025-06-15T17:56:42.395894Z",
     "shell.execute_reply": "2025-06-15T17:56:42.394976Z"
    },
    "papermill": {
     "duration": 0.562843,
     "end_time": "2025-06-15T17:56:42.397272",
     "exception": false,
     "start_time": "2025-06-15T17:56:41.834429",
     "status": "completed"
    },
    "tags": []
   },
   "outputs": [
    {
     "data": {
      "image/png": "[encoded data removed]",
      "text/plain": [
       "<Figure size 2000x400 with 6 Axes>"
      ]
     },
     "metadata": {},
     "output_type": "display_data"
    }
   ],
   "source": [
    "# Plotting BoxPlots to assess Outliers\n",
    "\n",
    "fig, ax = plt.subplots(nrows=2, ncols=3, figsize=(20, 4))\n",
    "\n",
    "ax[0,0] = sns.boxplot(data=df, x= 'pelvic_incidence', color='#DDDDDD', ax=ax[0,0])\n",
    "ax[0,1] = sns.boxplot(data=df, x= 'pelvic_tilt', color='#DDDDDD', ax=ax[0,1])\n",
    "ax[0,2] = sns.boxplot(data=df, x= 'lumbar_lordosis_angle', color='#DDDDDD', ax=ax[0,2])\n",
    "ax[1,0] = sns.boxplot(data=df, x= 'sacral_slope', color='#DDDDDD', ax=ax[1,0])\n",
    "ax[1,1] = sns.boxplot(data=df, x= 'pelvic_radius', color='#DDDDDD', ax=ax[1,1])\n",
    "ax[1,2] = sns.boxplot(data=df, x= 'grade_of_spondylolisthesis', color='#DDDDDD', ax=ax[1,2])\n",
    "\n",
    "sns.despine(left=False, right=True, top=True, bottom=False)\n",
    "plt.tight_layout()"
   ]
  },
  {
   "cell_type": "code",
   "execution_count": 11,
   "id": "4c391df2",
   "metadata": {
    "execution": {
     "iopub.execute_input": "2025-06-15T17:56:42.414442Z",
     "iopub.status.busy": "2025-06-15T17:56:42.413783Z",
     "iopub.status.idle": "2025-06-15T17:56:42.680144Z",
     "shell.execute_reply": "2025-06-15T17:56:42.679335Z"
    },
    "papermill": {
     "duration": 0.276048,
     "end_time": "2025-06-15T17:56:42.681590",
     "exception": false,
     "start_time": "2025-06-15T17:56:42.405542",
     "status": "completed"
    },
    "tags": []
   },
   "outputs": [
    {
     "data": {
      "image/png": "[encoded data removed]",
      "text/plain": [
       "<Figure size 500x350 with 2 Axes>"
      ]
     },
     "metadata": {},
     "output_type": "display_data"
    }
   ],
   "source": [
    "# Watching correlation of each feature against the target.\n",
    "\n",
    "corr = df.drop('Class_att',axis=1).corr()\n",
    "target_corr = corr[['abnormality']].sort_values(by='abnormality', ascending=False)\n",
    "\n",
    "plt.figure(figsize=(5, len(target_corr) * 0.5))\n",
    "sns.heatmap(target_corr, annot=True, cmap='Greys', center=0)\n",
    "\n",
    "sns.despine(left=False, right=True, top=True, bottom=False)\n",
    "plt.title(\"Target x Features\")\n",
    "plt.tight_layout()"
   ]
  },
  {
   "cell_type": "markdown",
   "id": "5e371f7f",
   "metadata": {
    "papermill": {
     "duration": 0.008184,
     "end_time": "2025-06-15T17:56:42.698423",
     "exception": false,
     "start_time": "2025-06-15T17:56:42.690239",
     "status": "completed"
    },
    "tags": []
   },
   "source": [
    "## **Insights:**\n",
    "--\n",
    "\n",
    "### **Statistics**:\n",
    "* As we can see all features but Pelvic Radius have a positve correlation with the Abnormality target, which means that the more they increease, the higher the chance of findind anormality."
   ]
  },
  {
   "cell_type": "markdown",
   "id": "4d1d6142",
   "metadata": {
    "papermill": {
     "duration": 0.008321,
     "end_time": "2025-06-15T17:56:42.714783",
     "exception": false,
     "start_time": "2025-06-15T17:56:42.706462",
     "status": "completed"
    },
    "tags": []
   },
   "source": [
    "# **Machine Learning**"
   ]
  },
  {
   "cell_type": "markdown",
   "id": "1ac2b1a8",
   "metadata": {
    "papermill": {
     "duration": 0.008425,
     "end_time": "2025-06-15T17:56:42.732234",
     "exception": false,
     "start_time": "2025-06-15T17:56:42.723809",
     "status": "completed"
    },
    "tags": []
   },
   "source": [
    "## **Data Preparation**\n",
    "    To prepare the data to build and test predctive models. \n",
    "--"
   ]
  },
  {
   "cell_type": "code",
   "execution_count": 12,
   "id": "f32be366",
   "metadata": {
    "execution": {
     "iopub.execute_input": "2025-06-15T17:56:42.751386Z",
     "iopub.status.busy": "2025-06-15T17:56:42.750822Z",
     "iopub.status.idle": "2025-06-15T17:56:42.765467Z",
     "shell.execute_reply": "2025-06-15T17:56:42.764698Z"
    },
    "papermill": {
     "duration": 0.025772,
     "end_time": "2025-06-15T17:56:42.766691",
     "exception": false,
     "start_time": "2025-06-15T17:56:42.740919",
     "status": "completed"
    },
    "tags": []
   },
   "outputs": [
    {
     "data": {
      "text/html": [
       "<div>\n",
       "<style scoped>\n",
       "    .dataframe tbody tr th:only-of-type {\n",
       "        vertical-align: middle;\n",
       "    }\n",
       "\n",
       "    .dataframe tbody tr th {\n",
       "        vertical-align: top;\n",
       "    }\n",
       "\n",
       "    .dataframe thead th {\n",
       "        text-align: right;\n",
       "    }\n",
       "</style>\n",
       "<table border=\"1\" class=\"dataframe\">\n",
       "  <thead>\n",
       "    <tr style=\"text-align: right;\">\n",
       "      <th></th>\n",
       "      <th>pelvic_incidence</th>\n",
       "      <th>pelvic_tilt</th>\n",
       "      <th>lumbar_lordosis_angle</th>\n",
       "      <th>sacral_slope</th>\n",
       "      <th>pelvic_radius</th>\n",
       "      <th>grade_of_spondylolisthesis</th>\n",
       "    </tr>\n",
       "  </thead>\n",
       "  <tbody>\n",
       "    <tr>\n",
       "      <th>pelvic_incidence</th>\n",
       "      <td>NaN</td>\n",
       "      <td>NaN</td>\n",
       "      <td>0.717282</td>\n",
       "      <td>0.81496</td>\n",
       "      <td>NaN</td>\n",
       "      <td>NaN</td>\n",
       "    </tr>\n",
       "    <tr>\n",
       "      <th>pelvic_tilt</th>\n",
       "      <td>NaN</td>\n",
       "      <td>NaN</td>\n",
       "      <td>NaN</td>\n",
       "      <td>NaN</td>\n",
       "      <td>NaN</td>\n",
       "      <td>NaN</td>\n",
       "    </tr>\n",
       "    <tr>\n",
       "      <th>lumbar_lordosis_angle</th>\n",
       "      <td>0.717282</td>\n",
       "      <td>NaN</td>\n",
       "      <td>NaN</td>\n",
       "      <td>NaN</td>\n",
       "      <td>NaN</td>\n",
       "      <td>NaN</td>\n",
       "    </tr>\n",
       "    <tr>\n",
       "      <th>sacral_slope</th>\n",
       "      <td>0.814960</td>\n",
       "      <td>NaN</td>\n",
       "      <td>NaN</td>\n",
       "      <td>NaN</td>\n",
       "      <td>NaN</td>\n",
       "      <td>NaN</td>\n",
       "    </tr>\n",
       "    <tr>\n",
       "      <th>pelvic_radius</th>\n",
       "      <td>NaN</td>\n",
       "      <td>NaN</td>\n",
       "      <td>NaN</td>\n",
       "      <td>NaN</td>\n",
       "      <td>NaN</td>\n",
       "      <td>NaN</td>\n",
       "    </tr>\n",
       "    <tr>\n",
       "      <th>grade_of_spondylolisthesis</th>\n",
       "      <td>NaN</td>\n",
       "      <td>NaN</td>\n",
       "      <td>NaN</td>\n",
       "      <td>NaN</td>\n",
       "      <td>NaN</td>\n",
       "      <td>NaN</td>\n",
       "    </tr>\n",
       "  </tbody>\n",
       "</table>\n",
       "</div>"
      ],
      "text/plain": [
       "                            pelvic_incidence  pelvic_tilt  \\\n",
       "pelvic_incidence                         NaN          NaN   \n",
       "pelvic_tilt                              NaN          NaN   \n",
       "lumbar_lordosis_angle               0.717282          NaN   \n",
       "sacral_slope                        0.814960          NaN   \n",
       "pelvic_radius                            NaN          NaN   \n",
       "grade_of_spondylolisthesis               NaN          NaN   \n",
       "\n",
       "                            lumbar_lordosis_angle  sacral_slope  \\\n",
       "pelvic_incidence                         0.717282       0.81496   \n",
       "pelvic_tilt                                   NaN           NaN   \n",
       "lumbar_lordosis_angle                         NaN           NaN   \n",
       "sacral_slope                                  NaN           NaN   \n",
       "pelvic_radius                                 NaN           NaN   \n",
       "grade_of_spondylolisthesis                    NaN           NaN   \n",
       "\n",
       "                            pelvic_radius  grade_of_spondylolisthesis  \n",
       "pelvic_incidence                      NaN                         NaN  \n",
       "pelvic_tilt                           NaN                         NaN  \n",
       "lumbar_lordosis_angle                 NaN                         NaN  \n",
       "sacral_slope                          NaN                         NaN  \n",
       "pelvic_radius                         NaN                         NaN  \n",
       "grade_of_spondylolisthesis            NaN                         NaN  "
      ]
     },
     "execution_count": 12,
     "metadata": {},
     "output_type": "execute_result"
    }
   ],
   "source": [
    "# Checking for Multicolinearity\n",
    "# We can see that Sacral_slope has a strong correlation with lumbar_lordosis_angle. This is why we will remove it from the dataset to avoid bias and overfitting.\n",
    "\n",
    "df_filter = corr[((corr >= 0.65) | (corr <= -0.65)) & (corr != 1.000)]\n",
    "df_filter = df_filter.drop('abnormality', axis=1)\n",
    "df_filter = df_filter.drop('abnormality', axis=0)\n",
    "df_filter"
   ]
  },
  {
   "cell_type": "code",
   "execution_count": 13,
   "id": "959e70b8",
   "metadata": {
    "execution": {
     "iopub.execute_input": "2025-06-15T17:56:42.785987Z",
     "iopub.status.busy": "2025-06-15T17:56:42.785532Z",
     "iopub.status.idle": "2025-06-15T17:56:42.798509Z",
     "shell.execute_reply": "2025-06-15T17:56:42.797650Z"
    },
    "papermill": {
     "duration": 0.024311,
     "end_time": "2025-06-15T17:56:42.799860",
     "exception": false,
     "start_time": "2025-06-15T17:56:42.775549",
     "status": "completed"
    },
    "tags": []
   },
   "outputs": [
    {
     "data": {
      "text/html": [
       "<div>\n",
       "<style scoped>\n",
       "    .dataframe tbody tr th:only-of-type {\n",
       "        vertical-align: middle;\n",
       "    }\n",
       "\n",
       "    .dataframe tbody tr th {\n",
       "        vertical-align: top;\n",
       "    }\n",
       "\n",
       "    .dataframe thead th {\n",
       "        text-align: right;\n",
       "    }\n",
       "</style>\n",
       "<table border=\"1\" class=\"dataframe\">\n",
       "  <thead>\n",
       "    <tr style=\"text-align: right;\">\n",
       "      <th></th>\n",
       "      <th>pelvic_incidence</th>\n",
       "      <th>pelvic_tilt</th>\n",
       "      <th>lumbar_lordosis_angle</th>\n",
       "      <th>pelvic_radius</th>\n",
       "      <th>grade_of_spondylolisthesis</th>\n",
       "      <th>abnormality</th>\n",
       "    </tr>\n",
       "  </thead>\n",
       "  <tbody>\n",
       "    <tr>\n",
       "      <th>0</th>\n",
       "      <td>63.027817</td>\n",
       "      <td>22.552586</td>\n",
       "      <td>39.609117</td>\n",
       "      <td>98.672917</td>\n",
       "      <td>-0.254400</td>\n",
       "      <td>1</td>\n",
       "    </tr>\n",
       "    <tr>\n",
       "      <th>1</th>\n",
       "      <td>39.056951</td>\n",
       "      <td>10.060991</td>\n",
       "      <td>25.015378</td>\n",
       "      <td>114.405425</td>\n",
       "      <td>4.564259</td>\n",
       "      <td>1</td>\n",
       "    </tr>\n",
       "    <tr>\n",
       "      <th>2</th>\n",
       "      <td>68.832021</td>\n",
       "      <td>22.218482</td>\n",
       "      <td>50.092194</td>\n",
       "      <td>105.985135</td>\n",
       "      <td>-3.530317</td>\n",
       "      <td>1</td>\n",
       "    </tr>\n",
       "    <tr>\n",
       "      <th>3</th>\n",
       "      <td>69.297008</td>\n",
       "      <td>24.652878</td>\n",
       "      <td>44.311238</td>\n",
       "      <td>101.868495</td>\n",
       "      <td>11.211523</td>\n",
       "      <td>1</td>\n",
       "    </tr>\n",
       "    <tr>\n",
       "      <th>4</th>\n",
       "      <td>49.712859</td>\n",
       "      <td>9.652075</td>\n",
       "      <td>28.317406</td>\n",
       "      <td>108.168725</td>\n",
       "      <td>7.918501</td>\n",
       "      <td>1</td>\n",
       "    </tr>\n",
       "    <tr>\n",
       "      <th>...</th>\n",
       "      <td>...</td>\n",
       "      <td>...</td>\n",
       "      <td>...</td>\n",
       "      <td>...</td>\n",
       "      <td>...</td>\n",
       "      <td>...</td>\n",
       "    </tr>\n",
       "    <tr>\n",
       "      <th>305</th>\n",
       "      <td>47.903565</td>\n",
       "      <td>13.616688</td>\n",
       "      <td>36.000000</td>\n",
       "      <td>117.449062</td>\n",
       "      <td>-4.245395</td>\n",
       "      <td>0</td>\n",
       "    </tr>\n",
       "    <tr>\n",
       "      <th>306</th>\n",
       "      <td>53.936748</td>\n",
       "      <td>20.721496</td>\n",
       "      <td>29.220534</td>\n",
       "      <td>114.365845</td>\n",
       "      <td>-0.421010</td>\n",
       "      <td>0</td>\n",
       "    </tr>\n",
       "    <tr>\n",
       "      <th>307</th>\n",
       "      <td>61.446597</td>\n",
       "      <td>22.694968</td>\n",
       "      <td>46.170347</td>\n",
       "      <td>125.670725</td>\n",
       "      <td>-2.707880</td>\n",
       "      <td>0</td>\n",
       "    </tr>\n",
       "    <tr>\n",
       "      <th>308</th>\n",
       "      <td>45.252792</td>\n",
       "      <td>8.693157</td>\n",
       "      <td>41.583126</td>\n",
       "      <td>118.545842</td>\n",
       "      <td>0.214750</td>\n",
       "      <td>0</td>\n",
       "    </tr>\n",
       "    <tr>\n",
       "      <th>309</th>\n",
       "      <td>33.841641</td>\n",
       "      <td>5.073991</td>\n",
       "      <td>36.641233</td>\n",
       "      <td>123.945244</td>\n",
       "      <td>-0.199249</td>\n",
       "      <td>0</td>\n",
       "    </tr>\n",
       "  </tbody>\n",
       "</table>\n",
       "<p>310 rows × 6 columns</p>\n",
       "</div>"
      ],
      "text/plain": [
       "     pelvic_incidence  pelvic_tilt  lumbar_lordosis_angle  pelvic_radius  \\\n",
       "0           63.027817    22.552586              39.609117      98.672917   \n",
       "1           39.056951    10.060991              25.015378     114.405425   \n",
       "2           68.832021    22.218482              50.092194     105.985135   \n",
       "3           69.297008    24.652878              44.311238     101.868495   \n",
       "4           49.712859     9.652075              28.317406     108.168725   \n",
       "..                ...          ...                    ...            ...   \n",
       "305         47.903565    13.616688              36.000000     117.449062   \n",
       "306         53.936748    20.721496              29.220534     114.365845   \n",
       "307         61.446597    22.694968              46.170347     125.670725   \n",
       "308         45.252792     8.693157              41.583126     118.545842   \n",
       "309         33.841641     5.073991              36.641233     123.945244   \n",
       "\n",
       "     grade_of_spondylolisthesis  abnormality  \n",
       "0                     -0.254400            1  \n",
       "1                      4.564259            1  \n",
       "2                     -3.530317            1  \n",
       "3                     11.211523            1  \n",
       "4                      7.918501            1  \n",
       "..                          ...          ...  \n",
       "305                   -4.245395            0  \n",
       "306                   -0.421010            0  \n",
       "307                   -2.707880            0  \n",
       "308                    0.214750            0  \n",
       "309                   -0.199249            0  \n",
       "\n",
       "[310 rows x 6 columns]"
      ]
     },
     "execution_count": 13,
     "metadata": {},
     "output_type": "execute_result"
    }
   ],
   "source": [
    "dataset = df.drop(['Class_att','sacral_slope'], axis=1)\n",
    "dataset"
   ]
  },
  {
   "cell_type": "code",
   "execution_count": 14,
   "id": "3df1c32d",
   "metadata": {
    "execution": {
     "iopub.execute_input": "2025-06-15T17:56:42.818431Z",
     "iopub.status.busy": "2025-06-15T17:56:42.817730Z",
     "iopub.status.idle": "2025-06-15T17:56:42.824010Z",
     "shell.execute_reply": "2025-06-15T17:56:42.823444Z"
    },
    "papermill": {
     "duration": 0.016516,
     "end_time": "2025-06-15T17:56:42.825104",
     "exception": false,
     "start_time": "2025-06-15T17:56:42.808588",
     "status": "completed"
    },
    "tags": []
   },
   "outputs": [],
   "source": [
    "# Train, Test split\n",
    "\n",
    "X = dataset.drop('abnormality', axis=1)\n",
    "y = dataset['abnormality']\n",
    "\n",
    "X_train, X_test, y_train, y_test = train_test_split(\n",
    "    X, y, test_size=0.3, random_state=42, shuffle=True)"
   ]
  },
  {
   "cell_type": "code",
   "execution_count": 15,
   "id": "518b23eb",
   "metadata": {
    "execution": {
     "iopub.execute_input": "2025-06-15T17:56:42.844143Z",
     "iopub.status.busy": "2025-06-15T17:56:42.843536Z",
     "iopub.status.idle": "2025-06-15T17:56:42.853905Z",
     "shell.execute_reply": "2025-06-15T17:56:42.853124Z"
    },
    "papermill": {
     "duration": 0.02139,
     "end_time": "2025-06-15T17:56:42.855102",
     "exception": false,
     "start_time": "2025-06-15T17:56:42.833712",
     "status": "completed"
    },
    "tags": []
   },
   "outputs": [
    {
     "data": {
      "text/plain": [
       "abnormality\n",
       "1    0.677419\n",
       "0    0.322581\n",
       "Name: proportion, dtype: float64"
      ]
     },
     "execution_count": 15,
     "metadata": {},
     "output_type": "execute_result"
    }
   ],
   "source": [
    "# Checking balance of the target feature.\n",
    "# According to the plot, we need to adjust the balance for better accuracy\n",
    "\n",
    "dataset['abnormality'].value_counts(normalize=True)"
   ]
  },
  {
   "cell_type": "code",
   "execution_count": 16,
   "id": "ad576c5d",
   "metadata": {
    "execution": {
     "iopub.execute_input": "2025-06-15T17:56:42.874669Z",
     "iopub.status.busy": "2025-06-15T17:56:42.874324Z",
     "iopub.status.idle": "2025-06-15T17:56:42.891075Z",
     "shell.execute_reply": "2025-06-15T17:56:42.890227Z"
    },
    "papermill": {
     "duration": 0.028051,
     "end_time": "2025-06-15T17:56:42.892527",
     "exception": false,
     "start_time": "2025-06-15T17:56:42.864476",
     "status": "completed"
    },
    "tags": []
   },
   "outputs": [],
   "source": [
    "# Apply SMOTE to generate synthetic examples for the minority class\n",
    "\n",
    "smote = SMOTE(random_state=42)\n",
    "X_train_resampled, y_train_resampled = smote.fit_resample(X_train, y_train) # This is applied ONLY to trainning data.\n",
    "\n",
    "# Scaling data to improve accuracy\n",
    "\n",
    "scaler = MaxAbsScaler()\n",
    "\n",
    "# Fit and transform the data\n",
    "X_train_scaled = scaler.fit_transform(X_train_resampled)\n",
    "X_test_scaled = scaler.fit_transform(X_test)"
   ]
  },
  {
   "cell_type": "markdown",
   "id": "ea5ff053",
   "metadata": {
    "papermill": {
     "duration": 0.010158,
     "end_time": "2025-06-15T17:56:42.911869",
     "exception": false,
     "start_time": "2025-06-15T17:56:42.901711",
     "status": "completed"
    },
    "tags": []
   },
   "source": [
    "## **Testing Models**\n",
    "    To test and validade base models, run metrics and the confidence interval to evaluate the model's performance\n",
    "--"
   ]
  },
  {
   "cell_type": "code",
   "execution_count": 17,
   "id": "7bb4c57b",
   "metadata": {
    "execution": {
     "iopub.execute_input": "2025-06-15T17:56:42.930411Z",
     "iopub.status.busy": "2025-06-15T17:56:42.930101Z",
     "iopub.status.idle": "2025-06-15T17:56:42.936647Z",
     "shell.execute_reply": "2025-06-15T17:56:42.935862Z"
    },
    "papermill": {
     "duration": 0.017209,
     "end_time": "2025-06-15T17:56:42.937965",
     "exception": false,
     "start_time": "2025-06-15T17:56:42.920756",
     "status": "completed"
    },
    "tags": []
   },
   "outputs": [],
   "source": [
    "# Function to run metrics\n",
    "\n",
    "def classification_metrics(x):\n",
    "    accuracy = accuracy_score(y_test, y_predict) * 100\n",
    "    class_atrix = classification_report(y_test,y_predict)\n",
    "    \n",
    "    print(class_atrix)\n",
    "    print(\"Accuracy: %.2f%%\" % accuracy)\n",
    "\n",
    "# Function to run confidence interval of the models\n",
    "\n",
    "def validation_results(results):\n",
    "  mean = results['test_score'].mean()\n",
    "  std = results['test_score'].std()\n",
    "  print(\"Average Accuracy: %.2f%%\" % (mean * 100))\n",
    "  print(\"Accuracy interval: [%.2f, %.2f]\" % ((mean - 2 * std)*100, (mean + 2 * std) * 100))\n",
    "\n",
    "def base_models(x, y, test):\n",
    "    # Call models\n",
    "    models = {\n",
    "    \"Dummy\": DummyClassifier(strategy='stratified', random_state=42),\n",
    "    \"Logistic Regression\": LogisticRegression(),\n",
    "    \"K-Nearest Neighbors\": KNeighborsClassifier(),\n",
    "}\n",
    "    results = {}\n",
    "    \n",
    "    # Run models\n",
    "    for name, model in models.items():\n",
    "        model.fit(x, y) # Train the model\n",
    "        y_pred = model.predict(test) # Make predictions on the validation set\n",
    "        accuracy = accuracy_score(y_test, y_pred) # Evaluate accuracy\n",
    "        results[name] = round(accuracy*100,2) # Store results\n",
    "            \n",
    "    print(results)"
   ]
  },
  {
   "cell_type": "code",
   "execution_count": 18,
   "id": "f7d1c915",
   "metadata": {
    "execution": {
     "iopub.execute_input": "2025-06-15T17:56:42.958074Z",
     "iopub.status.busy": "2025-06-15T17:56:42.957798Z",
     "iopub.status.idle": "2025-06-15T17:56:43.044776Z",
     "shell.execute_reply": "2025-06-15T17:56:43.044200Z"
    },
    "papermill": {
     "duration": 0.100902,
     "end_time": "2025-06-15T17:56:43.048475",
     "exception": false,
     "start_time": "2025-06-15T17:56:42.947573",
     "status": "completed"
    },
    "tags": []
   },
   "outputs": [
    {
     "name": "stdout",
     "output_type": "stream",
     "text": [
      "{'Dummy': 50.54, 'Logistic Regression': 76.34, 'K-Nearest Neighbors': 79.57}\n"
     ]
    }
   ],
   "source": [
    "# With the best performance among the models tested, KNN will be the model I'll focus on.\n",
    "\n",
    "base_models(X_train_scaled, y_train_resampled, X_test_scaled)"
   ]
  },
  {
   "cell_type": "markdown",
   "id": "01ea4ea6",
   "metadata": {
    "papermill": {
     "duration": 0.019278,
     "end_time": "2025-06-15T17:56:43.083625",
     "exception": false,
     "start_time": "2025-06-15T17:56:43.064347",
     "status": "completed"
    },
    "tags": []
   },
   "source": [
    "#### **Cross-Validation and Model Tunning**\n",
    "        All base models performed better than the dummy data created for validation. Below we can run Cross-Validation tests to evaluate further"
   ]
  },
  {
   "cell_type": "code",
   "execution_count": 19,
   "id": "f0329cdb",
   "metadata": {
    "execution": {
     "iopub.execute_input": "2025-06-15T17:56:43.115072Z",
     "iopub.status.busy": "2025-06-15T17:56:43.114389Z",
     "iopub.status.idle": "2025-06-15T17:56:43.714002Z",
     "shell.execute_reply": "2025-06-15T17:56:43.713238Z"
    },
    "papermill": {
     "duration": 0.616749,
     "end_time": "2025-06-15T17:56:43.715595",
     "exception": false,
     "start_time": "2025-06-15T17:56:43.098846",
     "status": "completed"
    },
    "tags": []
   },
   "outputs": [
    {
     "data": {
      "image/png": "[encoded data removed]",
      "text/plain": [
       "<Figure size 800x400 with 1 Axes>"
      ]
     },
     "metadata": {},
     "output_type": "display_data"
    }
   ],
   "source": [
    "# Applying cross validation to find the optmal params for the model\n",
    "\n",
    "# Try different values of K\n",
    "k_values = range(1, 15)\n",
    "accuracy_scores = []\n",
    "\n",
    "for k in k_values:\n",
    "    knn = KNeighborsClassifier(n_neighbors=k)\n",
    "    scores = cross_val_score(knn, X_train_scaled, y_train_resampled, cv=5, scoring='accuracy')\n",
    "    accuracy_scores.append(scores.mean())\n",
    "\n",
    "fig, ax = plt.subplots(1, 1, figsize=(8, 4))\n",
    "\n",
    "# Plotting visualization of the Scores\n",
    "plt.plot(k_values, accuracy_scores, color='grey')\n",
    "plt.xlabel('K Neighbors', fontsize=9.5)\n",
    "plt.ylabel('Accuracy', fontsize=9.5)\n",
    "plt.title('Accuracy vs K-Neighbors in KNN', fontsize=10)\n",
    "\n",
    "# Adjusting visualization\n",
    "formatter = FuncFormatter(lambda x, _: \tf'{x:.0%}')\n",
    "ax.yaxis.set_major_formatter(formatter)\n",
    "\n",
    "sns.despine(left=False, right=True, top=True, bottom=False)\n",
    "plt.tight_layout()"
   ]
  },
  {
   "cell_type": "code",
   "execution_count": 20,
   "id": "a788feea",
   "metadata": {
    "execution": {
     "iopub.execute_input": "2025-06-15T17:56:43.737214Z",
     "iopub.status.busy": "2025-06-15T17:56:43.736584Z",
     "iopub.status.idle": "2025-06-15T17:56:43.756865Z",
     "shell.execute_reply": "2025-06-15T17:56:43.755990Z"
    },
    "papermill": {
     "duration": 0.031945,
     "end_time": "2025-06-15T17:56:43.757943",
     "exception": false,
     "start_time": "2025-06-15T17:56:43.725998",
     "status": "completed"
    },
    "tags": []
   },
   "outputs": [
    {
     "name": "stdout",
     "output_type": "stream",
     "text": [
      "              precision    recall  f1-score   support\n",
      "\n",
      "           0       0.64      0.88      0.74        24\n",
      "           1       0.95      0.83      0.88        69\n",
      "\n",
      "    accuracy                           0.84        93\n",
      "   macro avg       0.79      0.85      0.81        93\n",
      "weighted avg       0.87      0.84      0.85        93\n",
      "\n",
      "Accuracy: 83.87%\n"
     ]
    }
   ],
   "source": [
    "# Fitting KNN after Cross-validation\n",
    "\n",
    "knn = KNeighborsClassifier(n_neighbors=3)\n",
    "knn.fit(X_train_scaled, y_train_resampled)\n",
    "y_predict = knn.predict(X_test_scaled)\n",
    "\n",
    "classification_metrics(knn)"
   ]
  },
  {
   "cell_type": "code",
   "execution_count": 21,
   "id": "378c46ec",
   "metadata": {
    "execution": {
     "iopub.execute_input": "2025-06-15T17:56:43.777754Z",
     "iopub.status.busy": "2025-06-15T17:56:43.777549Z",
     "iopub.status.idle": "2025-06-15T17:56:43.784448Z",
     "shell.execute_reply": "2025-06-15T17:56:43.783716Z"
    },
    "papermill": {
     "duration": 0.018421,
     "end_time": "2025-06-15T17:56:43.785664",
     "exception": false,
     "start_time": "2025-06-15T17:56:43.767243",
     "status": "completed"
    },
    "tags": []
   },
   "outputs": [
    {
     "data": {
      "text/plain": [
       "array([[21,  3],\n",
       "       [12, 57]])"
      ]
     },
     "execution_count": 21,
     "metadata": {},
     "output_type": "execute_result"
    }
   ],
   "source": [
    "#The Model shows good performance, but it's possible to see that it's giving too many FALSE NEGATIVES\n",
    "\n",
    "confusion_matrix(y_test, y_predict)"
   ]
  },
  {
   "cell_type": "code",
   "execution_count": 22,
   "id": "b490ded8",
   "metadata": {
    "execution": {
     "iopub.execute_input": "2025-06-15T17:56:43.806022Z",
     "iopub.status.busy": "2025-06-15T17:56:43.805829Z",
     "iopub.status.idle": "2025-06-15T17:56:43.815551Z",
     "shell.execute_reply": "2025-06-15T17:56:43.814854Z"
    },
    "papermill": {
     "duration": 0.021073,
     "end_time": "2025-06-15T17:56:43.816654",
     "exception": false,
     "start_time": "2025-06-15T17:56:43.795581",
     "status": "completed"
    },
    "tags": []
   },
   "outputs": [
    {
     "name": "stdout",
     "output_type": "stream",
     "text": [
      "Accuracy: 79.57%\n"
     ]
    }
   ],
   "source": [
    "# Trying another model - Decision Tree\n",
    "\n",
    "tree = DecisionTreeClassifier(criterion='gini', max_depth=3, random_state=42)\n",
    "tree.fit(X_train_resampled, y_train_resampled)\n",
    "y_predict = tree.predict(X_test)\n",
    "\n",
    "accuracy = accuracy_score(y_test, y_predict)\n",
    "print(f\"Accuracy: {accuracy * 100:.2f}%\")"
   ]
  },
  {
   "cell_type": "code",
   "execution_count": 23,
   "id": "d9a891fd",
   "metadata": {
    "execution": {
     "iopub.execute_input": "2025-06-15T17:56:43.838704Z",
     "iopub.status.busy": "2025-06-15T17:56:43.838435Z",
     "iopub.status.idle": "2025-06-15T17:56:48.694406Z",
     "shell.execute_reply": "2025-06-15T17:56:48.693423Z"
    },
    "papermill": {
     "duration": 4.868826,
     "end_time": "2025-06-15T17:56:48.695929",
     "exception": false,
     "start_time": "2025-06-15T17:56:43.827103",
     "status": "completed"
    },
    "tags": []
   },
   "outputs": [
    {
     "name": "stdout",
     "output_type": "stream",
     "text": [
      "              precision    recall  f1-score   support\n",
      "\n",
      "           0       0.68      0.79      0.73        24\n",
      "           1       0.92      0.87      0.90        69\n",
      "\n",
      "    accuracy                           0.85        93\n",
      "   macro avg       0.80      0.83      0.81        93\n",
      "weighted avg       0.86      0.85      0.85        93\n",
      "\n",
      "Accuracy: 84.95%\n",
      "Best Hyperparameters: {'criterion': 'entropy', 'max_depth': 7, 'max_features': None, 'min_samples_leaf': 4, 'min_samples_split': 10}\n"
     ]
    }
   ],
   "source": [
    "# Trying to improve the Decision Tree with GridSearchCV\n",
    "\n",
    "tree_for_grid = DecisionTreeClassifier(random_state=42)\n",
    "\n",
    "param_grid = {\n",
    "    'max_depth': [3, 5, 7, 10, None],  # None = unlimited depth\n",
    "    'min_samples_split': [2, 5, 10],\n",
    "    'min_samples_leaf': [1, 2, 4],\n",
    "    'criterion': ['gini', 'entropy'],\n",
    "    'max_features': ['sqrt', 'log2', None]  # None = all features\n",
    "}\n",
    "\n",
    "grid_search = GridSearchCV( estimator=tree_for_grid, param_grid =param_grid, cv=5, scoring='accuracy',n_jobs=-1)\n",
    "grid_search.fit(X_train_resampled, y_train_resampled)\n",
    "\n",
    "best_tree = grid_search.best_estimator_\n",
    "y_predict = best_tree.predict(X_test)\n",
    "\n",
    "classification_metrics(best_tree)\n",
    "print(\"Best Hyperparameters:\", grid_search.best_params_)"
   ]
  },
  {
   "cell_type": "code",
   "execution_count": 24,
   "id": "d25b664a",
   "metadata": {
    "execution": {
     "iopub.execute_input": "2025-06-15T17:56:48.718087Z",
     "iopub.status.busy": "2025-06-15T17:56:48.717797Z",
     "iopub.status.idle": "2025-06-15T17:56:48.724811Z",
     "shell.execute_reply": "2025-06-15T17:56:48.724201Z"
    },
    "papermill": {
     "duration": 0.019393,
     "end_time": "2025-06-15T17:56:48.726032",
     "exception": false,
     "start_time": "2025-06-15T17:56:48.706639",
     "status": "completed"
    },
    "tags": []
   },
   "outputs": [
    {
     "data": {
      "text/plain": [
       "array([[19,  5],\n",
       "       [ 9, 60]])"
      ]
     },
     "execution_count": 24,
     "metadata": {},
     "output_type": "execute_result"
    }
   ],
   "source": [
    "# It was possible to improve the results, however we still have a high number of FALSE NEGATIVES\n",
    "\n",
    "confusion_matrix(y_test, y_predict)"
   ]
  },
  {
   "cell_type": "markdown",
   "id": "d8b4cf8b",
   "metadata": {
    "papermill": {
     "duration": 0.01052,
     "end_time": "2025-06-15T17:56:48.746788",
     "exception": false,
     "start_time": "2025-06-15T17:56:48.736268",
     "status": "completed"
    },
    "tags": []
   },
   "source": [
    "## **Insights**\n",
    "--\n",
    "\n",
    "### **Base Models**:\n",
    "* All base models present good results when compared to the Dummy classifier. KNN was first choosen due to it's higher accuracy score, however after further validations it was decided to move on with a Decision Tree model optmized with best params.\n",
    "\n",
    "# **Thank You for taking the time to view this Notebook**!\n",
    "​\n",
    "If you found this analysis useful and have any feedback or suggestions, don't hesitate to contact me! We are here to learn!"
   ]
  }
 ],
 "metadata": {
  "kaggle": {
   "accelerator": "none",
   "dataSources": [
    {
     "datasetId": 2356343,
     "sourceId": 3970301,
     "sourceType": "datasetVersion"
    }
   ],
   "dockerImageVersionId": 31040,
   "isGpuEnabled": false,
   "isInternetEnabled": true,
   "language": "python",
   "sourceType": "notebook"
  },
  "kernelspec": {
   "display_name": "Python 3",
   "language": "python",
   "name": "python3"
  },
  "language_info": {
   "codemirror_mode": {
    "name": "ipython",
    "version": 3
   },
   "file_extension": ".py",
   "mimetype": "text/x-python",
   "name": "python",
   "nbconvert_exporter": "python",
   "pygments_lexer": "ipython3",
   "version": "3.11.11"
  },
  "papermill": {
   "default_parameters": {},
   "duration": 34.350625,
   "end_time": "2025-06-15T17:56:51.423315",
   "environment_variables": {},
   "exception": null,
   "input_path": "__notebook__.ipynb",
   "output_path": "__notebook__.ipynb",
   "parameters": {},
   "start_time": "2025-06-15T17:56:17.072690",
   "version": "2.6.0"
  }
 },
 "nbformat": 4,
 "nbformat_minor": 5
}
